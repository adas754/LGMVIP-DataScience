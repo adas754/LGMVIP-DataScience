{
  "nbformat": 4,
  "nbformat_minor": 0,
  "metadata": {
    "colab": {
      "name": "Untitled129.ipynb",
      "provenance": []
    },
    "kernelspec": {
      "name": "python3",
      "display_name": "Python 3"
    },
    "language_info": {
      "name": "python"
    },
    "accelerator": "GPU"
  },
  "cells": [
    {
      "cell_type": "code",
      "metadata": {
        "id": "2SUNzqzm_UZ0"
      },
      "source": [
        "import pandas as pd\n",
        "df=pd.read_csv(\"/content/lstm.csv\")"
      ],
      "execution_count": 4,
      "outputs": []
    },
    {
      "cell_type": "code",
      "metadata": {
        "colab": {
          "base_uri": "https://localhost:8080/",
          "height": 204
        },
        "id": "Y5OU2IhqBiIu",
        "outputId": "4f08fcec-c187-4e5b-aff6-126fd042d428"
      },
      "source": [
        "df.head()"
      ],
      "execution_count": 5,
      "outputs": [
        {
          "output_type": "execute_result",
          "data": {
            "text/html": [
              "<div>\n",
              "<style scoped>\n",
              "    .dataframe tbody tr th:only-of-type {\n",
              "        vertical-align: middle;\n",
              "    }\n",
              "\n",
              "    .dataframe tbody tr th {\n",
              "        vertical-align: top;\n",
              "    }\n",
              "\n",
              "    .dataframe thead th {\n",
              "        text-align: right;\n",
              "    }\n",
              "</style>\n",
              "<table border=\"1\" class=\"dataframe\">\n",
              "  <thead>\n",
              "    <tr style=\"text-align: right;\">\n",
              "      <th></th>\n",
              "      <th>Date</th>\n",
              "      <th>Open</th>\n",
              "      <th>High</th>\n",
              "      <th>Low</th>\n",
              "      <th>Last</th>\n",
              "      <th>Close</th>\n",
              "      <th>Total Trade Quantity</th>\n",
              "      <th>Turnover (Lacs)</th>\n",
              "    </tr>\n",
              "  </thead>\n",
              "  <tbody>\n",
              "    <tr>\n",
              "      <th>0</th>\n",
              "      <td>2018-09-28</td>\n",
              "      <td>234.05</td>\n",
              "      <td>235.95</td>\n",
              "      <td>230.20</td>\n",
              "      <td>233.50</td>\n",
              "      <td>233.75</td>\n",
              "      <td>3069914</td>\n",
              "      <td>7162.35</td>\n",
              "    </tr>\n",
              "    <tr>\n",
              "      <th>1</th>\n",
              "      <td>2018-09-27</td>\n",
              "      <td>234.55</td>\n",
              "      <td>236.80</td>\n",
              "      <td>231.10</td>\n",
              "      <td>233.80</td>\n",
              "      <td>233.25</td>\n",
              "      <td>5082859</td>\n",
              "      <td>11859.95</td>\n",
              "    </tr>\n",
              "    <tr>\n",
              "      <th>2</th>\n",
              "      <td>2018-09-26</td>\n",
              "      <td>240.00</td>\n",
              "      <td>240.00</td>\n",
              "      <td>232.50</td>\n",
              "      <td>235.00</td>\n",
              "      <td>234.25</td>\n",
              "      <td>2240909</td>\n",
              "      <td>5248.60</td>\n",
              "    </tr>\n",
              "    <tr>\n",
              "      <th>3</th>\n",
              "      <td>2018-09-25</td>\n",
              "      <td>233.30</td>\n",
              "      <td>236.75</td>\n",
              "      <td>232.00</td>\n",
              "      <td>236.25</td>\n",
              "      <td>236.10</td>\n",
              "      <td>2349368</td>\n",
              "      <td>5503.90</td>\n",
              "    </tr>\n",
              "    <tr>\n",
              "      <th>4</th>\n",
              "      <td>2018-09-24</td>\n",
              "      <td>233.55</td>\n",
              "      <td>239.20</td>\n",
              "      <td>230.75</td>\n",
              "      <td>234.00</td>\n",
              "      <td>233.30</td>\n",
              "      <td>3423509</td>\n",
              "      <td>7999.55</td>\n",
              "    </tr>\n",
              "  </tbody>\n",
              "</table>\n",
              "</div>"
            ],
            "text/plain": [
              "         Date    Open    High  ...   Close  Total Trade Quantity  Turnover (Lacs)\n",
              "0  2018-09-28  234.05  235.95  ...  233.75               3069914          7162.35\n",
              "1  2018-09-27  234.55  236.80  ...  233.25               5082859         11859.95\n",
              "2  2018-09-26  240.00  240.00  ...  234.25               2240909          5248.60\n",
              "3  2018-09-25  233.30  236.75  ...  236.10               2349368          5503.90\n",
              "4  2018-09-24  233.55  239.20  ...  233.30               3423509          7999.55\n",
              "\n",
              "[5 rows x 8 columns]"
            ]
          },
          "metadata": {},
          "execution_count": 5
        }
      ]
    },
    {
      "cell_type": "code",
      "metadata": {
        "colab": {
          "base_uri": "https://localhost:8080/",
          "height": 204
        },
        "id": "qsfEvUwDBqt-",
        "outputId": "99898300-3f40-45cc-ffa1-72df3ba98bf9"
      },
      "source": [
        "df.tail()"
      ],
      "execution_count": 6,
      "outputs": [
        {
          "output_type": "execute_result",
          "data": {
            "text/html": [
              "<div>\n",
              "<style scoped>\n",
              "    .dataframe tbody tr th:only-of-type {\n",
              "        vertical-align: middle;\n",
              "    }\n",
              "\n",
              "    .dataframe tbody tr th {\n",
              "        vertical-align: top;\n",
              "    }\n",
              "\n",
              "    .dataframe thead th {\n",
              "        text-align: right;\n",
              "    }\n",
              "</style>\n",
              "<table border=\"1\" class=\"dataframe\">\n",
              "  <thead>\n",
              "    <tr style=\"text-align: right;\">\n",
              "      <th></th>\n",
              "      <th>Date</th>\n",
              "      <th>Open</th>\n",
              "      <th>High</th>\n",
              "      <th>Low</th>\n",
              "      <th>Last</th>\n",
              "      <th>Close</th>\n",
              "      <th>Total Trade Quantity</th>\n",
              "      <th>Turnover (Lacs)</th>\n",
              "    </tr>\n",
              "  </thead>\n",
              "  <tbody>\n",
              "    <tr>\n",
              "      <th>2030</th>\n",
              "      <td>2010-07-27</td>\n",
              "      <td>117.6</td>\n",
              "      <td>119.50</td>\n",
              "      <td>112.00</td>\n",
              "      <td>118.80</td>\n",
              "      <td>118.65</td>\n",
              "      <td>586100</td>\n",
              "      <td>694.98</td>\n",
              "    </tr>\n",
              "    <tr>\n",
              "      <th>2031</th>\n",
              "      <td>2010-07-26</td>\n",
              "      <td>120.1</td>\n",
              "      <td>121.00</td>\n",
              "      <td>117.10</td>\n",
              "      <td>117.10</td>\n",
              "      <td>117.60</td>\n",
              "      <td>658440</td>\n",
              "      <td>780.01</td>\n",
              "    </tr>\n",
              "    <tr>\n",
              "      <th>2032</th>\n",
              "      <td>2010-07-23</td>\n",
              "      <td>121.8</td>\n",
              "      <td>121.95</td>\n",
              "      <td>120.25</td>\n",
              "      <td>120.35</td>\n",
              "      <td>120.65</td>\n",
              "      <td>281312</td>\n",
              "      <td>340.31</td>\n",
              "    </tr>\n",
              "    <tr>\n",
              "      <th>2033</th>\n",
              "      <td>2010-07-22</td>\n",
              "      <td>120.3</td>\n",
              "      <td>122.00</td>\n",
              "      <td>120.25</td>\n",
              "      <td>120.75</td>\n",
              "      <td>120.90</td>\n",
              "      <td>293312</td>\n",
              "      <td>355.17</td>\n",
              "    </tr>\n",
              "    <tr>\n",
              "      <th>2034</th>\n",
              "      <td>2010-07-21</td>\n",
              "      <td>122.1</td>\n",
              "      <td>123.00</td>\n",
              "      <td>121.05</td>\n",
              "      <td>121.10</td>\n",
              "      <td>121.55</td>\n",
              "      <td>658666</td>\n",
              "      <td>803.56</td>\n",
              "    </tr>\n",
              "  </tbody>\n",
              "</table>\n",
              "</div>"
            ],
            "text/plain": [
              "            Date   Open    High  ...   Close  Total Trade Quantity  Turnover (Lacs)\n",
              "2030  2010-07-27  117.6  119.50  ...  118.65                586100           694.98\n",
              "2031  2010-07-26  120.1  121.00  ...  117.60                658440           780.01\n",
              "2032  2010-07-23  121.8  121.95  ...  120.65                281312           340.31\n",
              "2033  2010-07-22  120.3  122.00  ...  120.90                293312           355.17\n",
              "2034  2010-07-21  122.1  123.00  ...  121.55                658666           803.56\n",
              "\n",
              "[5 rows x 8 columns]"
            ]
          },
          "metadata": {},
          "execution_count": 6
        }
      ]
    },
    {
      "cell_type": "code",
      "metadata": {
        "id": "CExAGm0EDHRJ"
      },
      "source": [
        "df1=df.reset_index()['Close']"
      ],
      "execution_count": 7,
      "outputs": []
    },
    {
      "cell_type": "code",
      "metadata": {
        "colab": {
          "base_uri": "https://localhost:8080/"
        },
        "id": "Uc2zzgI0DO_j",
        "outputId": "a5136dc2-c5d6-466c-f73b-59136c4095c1"
      },
      "source": [
        "\n",
        "df1"
      ],
      "execution_count": 9,
      "outputs": [
        {
          "output_type": "execute_result",
          "data": {
            "text/plain": [
              "0       233.75\n",
              "1       233.25\n",
              "2       234.25\n",
              "3       236.10\n",
              "4       233.30\n",
              "         ...  \n",
              "2030    118.65\n",
              "2031    117.60\n",
              "2032    120.65\n",
              "2033    120.90\n",
              "2034    121.55\n",
              "Name: Close, Length: 2035, dtype: float64"
            ]
          },
          "metadata": {},
          "execution_count": 9
        }
      ]
    },
    {
      "cell_type": "code",
      "metadata": {
        "colab": {
          "base_uri": "https://localhost:8080/",
          "height": 282
        },
        "id": "pljuQRDaDUiZ",
        "outputId": "4e92255e-a0f6-41d6-bccb-37db78be11fd"
      },
      "source": [
        "\n",
        "import matplotlib.pyplot as plt\n",
        "plt.plot(df1)"
      ],
      "execution_count": 10,
      "outputs": [
        {
          "output_type": "execute_result",
          "data": {
            "text/plain": [
              "[<matplotlib.lines.Line2D at 0x7f4b056a7ed0>]"
            ]
          },
          "metadata": {},
          "execution_count": 10
        },
        {
          "output_type": "display_data",
          "data": {
            "image/png": "[encoded data removed]",
            "text/plain": [
              "<Figure size 432x288 with 1 Axes>"
            ]
          },
          "metadata": {
            "needs_background": "light"
          }
        }
      ]
    },
    {
      "cell_type": "code",
      "metadata": {
        "id": "klwIHXvlGITX"
      },
      "source": [
        "import numpy as np"
      ],
      "execution_count": 11,
      "outputs": []
    },
    {
      "cell_type": "code",
      "metadata": {
        "id": "jk2T7HcSGNn_"
      },
      "source": [
        "from sklearn.preprocessing import MinMaxScaler\n",
        "scaler=MinMaxScaler(feature_range=(0,1))\n",
        "df1=scaler.fit_transform(np.array(df1).reshape(-1,1))"
      ],
      "execution_count": 12,
      "outputs": []
    },
    {
      "cell_type": "code",
      "metadata": {
        "colab": {
          "base_uri": "https://localhost:8080/"
        },
        "id": "jHrChQAzGQ5B",
        "outputId": "aa151d57-1c56-4dd5-e3d3-2e5fcdb3b8e3"
      },
      "source": [
        "print(df1)"
      ],
      "execution_count": 13,
      "outputs": [
        {
          "output_type": "stream",
          "text": [
            "[[0.62418301]\n",
            " [0.62214052]\n",
            " [0.62622549]\n",
            " ...\n",
            " [0.1621732 ]\n",
            " [0.16319444]\n",
            " [0.16584967]]\n"
          ],
          "name": "stdout"
        }
      ]
    },
    {
      "cell_type": "code",
      "metadata": {
        "id": "YGQbGZG-GWTx"
      },
      "source": [
        "training_size=int(len(df1)*0.75)\n",
        "test_size=len(df1)-training_size\n",
        "train_data,test_data=df1[0:training_size,:],df1[training_size:len(df1),:1]"
      ],
      "execution_count": 14,
      "outputs": []
    },
    {
      "cell_type": "code",
      "metadata": {
        "colab": {
          "base_uri": "https://localhost:8080/"
        },
        "id": "rWl8fuSLGbRh",
        "outputId": "41c0c7de-a57f-43e9-ec97-013b482ae865"
      },
      "source": [
        "training_size,test_size"
      ],
      "execution_count": 15,
      "outputs": [
        {
          "output_type": "execute_result",
          "data": {
            "text/plain": [
              "(1526, 509)"
            ]
          },
          "metadata": {},
          "execution_count": 15
        }
      ]
    },
    {
      "cell_type": "code",
      "metadata": {
        "colab": {
          "base_uri": "https://localhost:8080/"
        },
        "id": "gtzdA5EeGeoA",
        "outputId": "88340709-9495-4b55-9f8a-c950a843de74"
      },
      "source": [
        "train_data"
      ],
      "execution_count": 16,
      "outputs": [
        {
          "output_type": "execute_result",
          "data": {
            "text/plain": [
              "array([[0.62418301],\n",
              "       [0.62214052],\n",
              "       [0.62622549],\n",
              "       ...,\n",
              "       [0.18831699],\n",
              "       [0.18811275],\n",
              "       [0.17034314]])"
            ]
          },
          "metadata": {},
          "execution_count": 16
        }
      ]
    },
    {
      "cell_type": "code",
      "metadata": {
        "id": "7yEGfOSNGp47"
      },
      "source": [
        "# convert an array of values into a dataset matrix\n",
        "def create_dataset(dataset, time_step=1):\n",
        "\tdataX, dataY = [], []\n",
        "\tfor i in range(len(dataset)-time_step-1):\n",
        "\t\ta = dataset[i:(i+time_step), 0]   ###i=0, 0,1,2,3-----99   100 \n",
        "\t\tdataX.append(a)\n",
        "\t\tdataY.append(dataset[i + time_step, 0])\n",
        "\treturn numpy.array(dataX), numpy.array(dataY)"
      ],
      "execution_count": 18,
      "outputs": []
    },
    {
      "cell_type": "code",
      "metadata": {
        "id": "UM-k4xYnG2Zb"
      },
      "source": [
        "time_step = 100\n",
        "X_train, y_train = create_dataset(train_data, time_step) # reshape into X=t,t+1,t+2,t+3 and Y=t+4\n",
        "X_test, ytest = create_dataset(test_data, time_step)"
      ],
      "execution_count": 21,
      "outputs": []
    },
    {
      "cell_type": "code",
      "metadata": {
        "colab": {
          "base_uri": "https://localhost:8080/"
        },
        "id": "TyDuvFKNIK8L",
        "outputId": "84ffbb1f-b289-4053-d50b-b671cf23cb9d"
      },
      "source": [
        "\n",
        "print(X_train.shape), print(y_train.shape)"
      ],
      "execution_count": 22,
      "outputs": [
        {
          "output_type": "stream",
          "text": [
            "(1425, 100)\n",
            "(1425,)\n"
          ],
          "name": "stdout"
        },
        {
          "output_type": "execute_result",
          "data": {
            "text/plain": [
              "(None, None)"
            ]
          },
          "metadata": {},
          "execution_count": 22
        }
      ]
    },
    {
      "cell_type": "code",
      "metadata": {
        "colab": {
          "base_uri": "https://localhost:8080/"
        },
        "id": "bNWTGm98IPXj",
        "outputId": "62f3e113-d63d-450c-fcda-b584cf0c9d4d"
      },
      "source": [
        "\n",
        "print(X_test.shape), print(ytest.shape)"
      ],
      "execution_count": 23,
      "outputs": [
        {
          "output_type": "stream",
          "text": [
            "(408, 100)\n",
            "(408,)\n"
          ],
          "name": "stdout"
        },
        {
          "output_type": "execute_result",
          "data": {
            "text/plain": [
              "(None, None)"
            ]
          },
          "metadata": {},
          "execution_count": 23
        }
      ]
    },
    {
      "cell_type": "code",
      "metadata": {
        "id": "Rn6U0MPmITH3"
      },
      "source": [
        "X_train =X_train.reshape(X_train.shape[0],X_train.shape[1] , 1)\n",
        "X_test = X_test.reshape(X_test.shape[0],X_test.shape[1] , 1) # reshape input to be [samples, time steps, features] which is required for LSTM"
      ],
      "execution_count": 24,
      "outputs": []
    },
    {
      "cell_type": "code",
      "metadata": {
        "id": "V87J9QSdIXpN"
      },
      "source": [
        "from tensorflow.keras.models import Sequential\n",
        "from tensorflow.keras.layers import Dense\n",
        "from tensorflow.keras.layers import LSTM ### Create the Stacked LSTM model"
      ],
      "execution_count": 25,
      "outputs": []
    },
    {
      "cell_type": "code",
      "metadata": {
        "id": "a3vU76OIIcoU"
      },
      "source": [
        "model=Sequential()\n",
        "model.add(LSTM(50,return_sequences=True,input_shape=(100,1)))\n",
        "model.add(LSTM(50,return_sequences=True))\n",
        "model.add(LSTM(50))\n",
        "model.add(Dense(1))\n",
        "model.compile(loss='mean_squared_error',optimizer='adam')"
      ],
      "execution_count": 26,
      "outputs": []
    },
    {
      "cell_type": "code",
      "metadata": {
        "colab": {
          "base_uri": "https://localhost:8080/"
        },
        "id": "cJTzVvRiIj2U",
        "outputId": "3792c819-6851-4b0b-b68f-4b8b7b650d15"
      },
      "source": [
        "model.summary()"
      ],
      "execution_count": 27,
      "outputs": [
        {
          "output_type": "stream",
          "text": [
            "Model: \"sequential\"\n",
            "_________________________________________________________________\n",
            "Layer (type)                 Output Shape              Param #   \n",
            "=================================================================\n",
            "lstm (LSTM)                  (None, 100, 50)           10400     \n",
            "_________________________________________________________________\n",
            "lstm_1 (LSTM)                (None, 100, 50)           20200     \n",
            "_________________________________________________________________\n",
            "lstm_2 (LSTM)                (None, 50)                20200     \n",
            "_________________________________________________________________\n",
            "dense (Dense)                (None, 1)                 51        \n",
            "=================================================================\n",
            "Total params: 50,851\n",
            "Trainable params: 50,851\n",
            "Non-trainable params: 0\n",
            "_________________________________________________________________\n"
          ],
          "name": "stdout"
        }
      ]
    },
    {
      "cell_type": "code",
      "metadata": {
        "colab": {
          "base_uri": "https://localhost:8080/"
        },
        "id": "WIdV2g0AIo_s",
        "outputId": "43c31870-f8ae-4beb-8089-b4d4594d453f"
      },
      "source": [
        "\n",
        "model.summary()"
      ],
      "execution_count": 28,
      "outputs": [
        {
          "output_type": "stream",
          "text": [
            "Model: \"sequential\"\n",
            "_________________________________________________________________\n",
            "Layer (type)                 Output Shape              Param #   \n",
            "=================================================================\n",
            "lstm (LSTM)                  (None, 100, 50)           10400     \n",
            "_________________________________________________________________\n",
            "lstm_1 (LSTM)                (None, 100, 50)           20200     \n",
            "_________________________________________________________________\n",
            "lstm_2 (LSTM)                (None, 50)                20200     \n",
            "_________________________________________________________________\n",
            "dense (Dense)                (None, 1)                 51        \n",
            "=================================================================\n",
            "Total params: 50,851\n",
            "Trainable params: 50,851\n",
            "Non-trainable params: 0\n",
            "_________________________________________________________________\n"
          ],
          "name": "stdout"
        }
      ]
    },
    {
      "cell_type": "code",
      "metadata": {
        "colab": {
          "base_uri": "https://localhost:8080/"
        },
        "id": "Bnfo7k-yIsYt",
        "outputId": "2e914ae0-576d-42f9-c2d0-db989c54f2cb"
      },
      "source": [
        "model.fit(X_train,y_train,validation_data=(X_test,ytest),epochs=100,batch_size=64,verbose=1)"
      ],
      "execution_count": 29,
      "outputs": [
        {
          "output_type": "stream",
          "text": [
            "Epoch 1/100\n",
            "23/23 [==============================] - 12s 133ms/step - loss: 0.0196 - val_loss: 0.0066\n",
            "Epoch 2/100\n",
            "23/23 [==============================] - 2s 76ms/step - loss: 0.0023 - val_loss: 7.0099e-04\n",
            "Epoch 3/100\n",
            "23/23 [==============================] - 2s 76ms/step - loss: 0.0015 - val_loss: 0.0011\n",
            "Epoch 4/100\n",
            "23/23 [==============================] - 2s 76ms/step - loss: 0.0013 - val_loss: 7.1167e-04\n",
            "Epoch 5/100\n",
            "23/23 [==============================] - 2s 76ms/step - loss: 0.0013 - val_loss: 8.3611e-04\n",
            "Epoch 6/100\n",
            "23/23 [==============================] - 2s 76ms/step - loss: 0.0014 - val_loss: 8.6554e-04\n",
            "Epoch 7/100\n",
            "23/23 [==============================] - 2s 75ms/step - loss: 0.0011 - val_loss: 8.3129e-04\n",
            "Epoch 8/100\n",
            "23/23 [==============================] - 2s 76ms/step - loss: 0.0011 - val_loss: 0.0010\n",
            "Epoch 9/100\n",
            "23/23 [==============================] - 2s 76ms/step - loss: 0.0010 - val_loss: 8.1692e-04\n",
            "Epoch 10/100\n",
            "23/23 [==============================] - 2s 75ms/step - loss: 9.9475e-04 - val_loss: 8.4720e-04\n",
            "Epoch 11/100\n",
            "23/23 [==============================] - 2s 76ms/step - loss: 0.0010 - val_loss: 9.0446e-04\n",
            "Epoch 12/100\n",
            "23/23 [==============================] - 2s 75ms/step - loss: 9.3569e-04 - val_loss: 7.5093e-04\n",
            "Epoch 13/100\n",
            "23/23 [==============================] - 2s 76ms/step - loss: 9.1313e-04 - val_loss: 7.1051e-04\n",
            "Epoch 14/100\n",
            "23/23 [==============================] - 2s 75ms/step - loss: 9.2154e-04 - val_loss: 9.3188e-04\n",
            "Epoch 15/100\n",
            "23/23 [==============================] - 2s 76ms/step - loss: 8.0830e-04 - val_loss: 8.1314e-04\n",
            "Epoch 16/100\n",
            "23/23 [==============================] - 2s 75ms/step - loss: 7.7618e-04 - val_loss: 7.7270e-04\n",
            "Epoch 17/100\n",
            "23/23 [==============================] - 2s 75ms/step - loss: 8.2304e-04 - val_loss: 6.3270e-04\n",
            "Epoch 18/100\n",
            "23/23 [==============================] - 2s 76ms/step - loss: 8.5457e-04 - val_loss: 8.5339e-04\n",
            "Epoch 19/100\n",
            "23/23 [==============================] - 2s 76ms/step - loss: 8.3341e-04 - val_loss: 8.3710e-04\n",
            "Epoch 20/100\n",
            "23/23 [==============================] - 2s 76ms/step - loss: 7.2740e-04 - val_loss: 8.2060e-04\n",
            "Epoch 21/100\n",
            "23/23 [==============================] - 2s 77ms/step - loss: 6.7904e-04 - val_loss: 6.2697e-04\n",
            "Epoch 22/100\n",
            "23/23 [==============================] - 2s 76ms/step - loss: 7.1243e-04 - val_loss: 6.5535e-04\n",
            "Epoch 23/100\n",
            "23/23 [==============================] - 2s 76ms/step - loss: 6.6540e-04 - val_loss: 5.8469e-04\n",
            "Epoch 24/100\n",
            "23/23 [==============================] - 2s 76ms/step - loss: 6.5024e-04 - val_loss: 5.8146e-04\n",
            "Epoch 25/100\n",
            "23/23 [==============================] - 2s 76ms/step - loss: 6.4674e-04 - val_loss: 7.3967e-04\n",
            "Epoch 26/100\n",
            "23/23 [==============================] - 2s 76ms/step - loss: 6.4092e-04 - val_loss: 6.0447e-04\n",
            "Epoch 27/100\n",
            "23/23 [==============================] - 2s 76ms/step - loss: 6.1205e-04 - val_loss: 7.6253e-04\n",
            "Epoch 28/100\n",
            "23/23 [==============================] - 2s 75ms/step - loss: 5.8392e-04 - val_loss: 7.2020e-04\n",
            "Epoch 29/100\n",
            "23/23 [==============================] - 2s 75ms/step - loss: 6.0606e-04 - val_loss: 7.2554e-04\n",
            "Epoch 30/100\n",
            "23/23 [==============================] - 2s 75ms/step - loss: 6.5126e-04 - val_loss: 8.5977e-04\n",
            "Epoch 31/100\n",
            "23/23 [==============================] - 2s 76ms/step - loss: 5.9840e-04 - val_loss: 5.3788e-04\n",
            "Epoch 32/100\n",
            "23/23 [==============================] - 2s 75ms/step - loss: 5.7187e-04 - val_loss: 7.4949e-04\n",
            "Epoch 33/100\n",
            "23/23 [==============================] - 2s 75ms/step - loss: 5.4124e-04 - val_loss: 5.8452e-04\n",
            "Epoch 34/100\n",
            "23/23 [==============================] - 2s 77ms/step - loss: 5.2600e-04 - val_loss: 5.5709e-04\n",
            "Epoch 35/100\n",
            "23/23 [==============================] - 2s 75ms/step - loss: 5.1414e-04 - val_loss: 3.9176e-04\n",
            "Epoch 36/100\n",
            "23/23 [==============================] - 2s 76ms/step - loss: 6.5055e-04 - val_loss: 5.0691e-04\n",
            "Epoch 37/100\n",
            "23/23 [==============================] - 2s 76ms/step - loss: 5.4617e-04 - val_loss: 4.8009e-04\n",
            "Epoch 38/100\n",
            "23/23 [==============================] - 2s 76ms/step - loss: 5.1668e-04 - val_loss: 4.0037e-04\n",
            "Epoch 39/100\n",
            "23/23 [==============================] - 2s 77ms/step - loss: 5.2117e-04 - val_loss: 6.0821e-04\n",
            "Epoch 40/100\n",
            "23/23 [==============================] - 2s 75ms/step - loss: 4.6089e-04 - val_loss: 5.4708e-04\n",
            "Epoch 41/100\n",
            "23/23 [==============================] - 2s 77ms/step - loss: 4.6418e-04 - val_loss: 6.1947e-04\n",
            "Epoch 42/100\n",
            "23/23 [==============================] - 2s 76ms/step - loss: 6.1833e-04 - val_loss: 5.4754e-04\n",
            "Epoch 43/100\n",
            "23/23 [==============================] - 2s 76ms/step - loss: 4.4056e-04 - val_loss: 5.3993e-04\n",
            "Epoch 44/100\n",
            "23/23 [==============================] - 2s 75ms/step - loss: 4.3336e-04 - val_loss: 4.1801e-04\n",
            "Epoch 45/100\n",
            "23/23 [==============================] - 2s 77ms/step - loss: 4.0578e-04 - val_loss: 4.7400e-04\n",
            "Epoch 46/100\n",
            "23/23 [==============================] - 2s 77ms/step - loss: 4.3451e-04 - val_loss: 4.8194e-04\n",
            "Epoch 47/100\n",
            "23/23 [==============================] - 2s 75ms/step - loss: 4.0380e-04 - val_loss: 4.2263e-04\n",
            "Epoch 48/100\n",
            "23/23 [==============================] - 2s 75ms/step - loss: 4.6696e-04 - val_loss: 5.0127e-04\n",
            "Epoch 49/100\n",
            "23/23 [==============================] - 2s 75ms/step - loss: 3.8087e-04 - val_loss: 4.1485e-04\n",
            "Epoch 50/100\n",
            "23/23 [==============================] - 2s 75ms/step - loss: 3.7588e-04 - val_loss: 4.9862e-04\n",
            "Epoch 51/100\n",
            "23/23 [==============================] - 2s 77ms/step - loss: 3.9089e-04 - val_loss: 3.9587e-04\n",
            "Epoch 52/100\n",
            "23/23 [==============================] - 2s 77ms/step - loss: 3.5733e-04 - val_loss: 3.1318e-04\n",
            "Epoch 53/100\n",
            "23/23 [==============================] - 2s 76ms/step - loss: 3.8015e-04 - val_loss: 3.3932e-04\n",
            "Epoch 54/100\n",
            "23/23 [==============================] - 2s 76ms/step - loss: 3.9401e-04 - val_loss: 5.6581e-04\n",
            "Epoch 55/100\n",
            "23/23 [==============================] - 2s 75ms/step - loss: 3.9510e-04 - val_loss: 3.9097e-04\n",
            "Epoch 56/100\n",
            "23/23 [==============================] - 2s 75ms/step - loss: 3.5814e-04 - val_loss: 4.1770e-04\n",
            "Epoch 57/100\n",
            "23/23 [==============================] - 2s 76ms/step - loss: 3.3829e-04 - val_loss: 3.8577e-04\n",
            "Epoch 58/100\n",
            "23/23 [==============================] - 2s 76ms/step - loss: 3.1490e-04 - val_loss: 4.7188e-04\n",
            "Epoch 59/100\n",
            "23/23 [==============================] - 2s 75ms/step - loss: 3.2266e-04 - val_loss: 3.6473e-04\n",
            "Epoch 60/100\n",
            "23/23 [==============================] - 2s 77ms/step - loss: 3.0865e-04 - val_loss: 3.1132e-04\n",
            "Epoch 61/100\n",
            "23/23 [==============================] - 2s 76ms/step - loss: 3.3807e-04 - val_loss: 4.5529e-04\n",
            "Epoch 62/100\n",
            "23/23 [==============================] - 2s 75ms/step - loss: 3.4414e-04 - val_loss: 4.5757e-04\n",
            "Epoch 63/100\n",
            "23/23 [==============================] - 2s 75ms/step - loss: 3.2958e-04 - val_loss: 3.1506e-04\n",
            "Epoch 64/100\n",
            "23/23 [==============================] - 2s 76ms/step - loss: 2.9752e-04 - val_loss: 3.6111e-04\n",
            "Epoch 65/100\n",
            "23/23 [==============================] - 2s 76ms/step - loss: 2.9998e-04 - val_loss: 3.1839e-04\n",
            "Epoch 66/100\n",
            "23/23 [==============================] - 2s 76ms/step - loss: 2.7995e-04 - val_loss: 2.8579e-04\n",
            "Epoch 67/100\n",
            "23/23 [==============================] - 2s 76ms/step - loss: 2.7656e-04 - val_loss: 2.2810e-04\n",
            "Epoch 68/100\n",
            "23/23 [==============================] - 2s 75ms/step - loss: 2.7532e-04 - val_loss: 2.9659e-04\n",
            "Epoch 69/100\n",
            "23/23 [==============================] - 2s 75ms/step - loss: 2.6946e-04 - val_loss: 2.5772e-04\n",
            "Epoch 70/100\n",
            "23/23 [==============================] - 2s 76ms/step - loss: 3.1679e-04 - val_loss: 2.0257e-04\n",
            "Epoch 71/100\n",
            "23/23 [==============================] - 2s 76ms/step - loss: 3.4803e-04 - val_loss: 2.0981e-04\n",
            "Epoch 72/100\n",
            "23/23 [==============================] - 2s 74ms/step - loss: 2.4956e-04 - val_loss: 2.2228e-04\n",
            "Epoch 73/100\n",
            "23/23 [==============================] - 2s 75ms/step - loss: 2.5329e-04 - val_loss: 2.5257e-04\n",
            "Epoch 74/100\n",
            "23/23 [==============================] - 2s 75ms/step - loss: 2.4526e-04 - val_loss: 2.8892e-04\n",
            "Epoch 75/100\n",
            "23/23 [==============================] - 2s 75ms/step - loss: 2.5823e-04 - val_loss: 3.9073e-04\n",
            "Epoch 76/100\n",
            "23/23 [==============================] - 2s 77ms/step - loss: 3.1436e-04 - val_loss: 2.8640e-04\n",
            "Epoch 77/100\n",
            "23/23 [==============================] - 2s 76ms/step - loss: 2.4476e-04 - val_loss: 2.2025e-04\n",
            "Epoch 78/100\n",
            "23/23 [==============================] - 2s 75ms/step - loss: 2.3851e-04 - val_loss: 2.0564e-04\n",
            "Epoch 79/100\n",
            "23/23 [==============================] - 2s 76ms/step - loss: 2.5113e-04 - val_loss: 2.7383e-04\n",
            "Epoch 80/100\n",
            "23/23 [==============================] - 2s 76ms/step - loss: 2.3142e-04 - val_loss: 2.2300e-04\n",
            "Epoch 81/100\n",
            "23/23 [==============================] - 2s 76ms/step - loss: 2.3972e-04 - val_loss: 2.8013e-04\n",
            "Epoch 82/100\n",
            "23/23 [==============================] - 2s 76ms/step - loss: 2.2103e-04 - val_loss: 2.4282e-04\n",
            "Epoch 83/100\n",
            "23/23 [==============================] - 2s 76ms/step - loss: 2.5435e-04 - val_loss: 2.3155e-04\n",
            "Epoch 84/100\n",
            "23/23 [==============================] - 2s 76ms/step - loss: 2.6951e-04 - val_loss: 3.5465e-04\n",
            "Epoch 85/100\n",
            "23/23 [==============================] - 2s 76ms/step - loss: 2.7500e-04 - val_loss: 2.1279e-04\n",
            "Epoch 86/100\n",
            "23/23 [==============================] - 2s 76ms/step - loss: 2.4033e-04 - val_loss: 2.2268e-04\n",
            "Epoch 87/100\n",
            "23/23 [==============================] - 2s 76ms/step - loss: 2.4547e-04 - val_loss: 1.8054e-04\n",
            "Epoch 88/100\n",
            "23/23 [==============================] - 2s 76ms/step - loss: 2.3647e-04 - val_loss: 1.9940e-04\n",
            "Epoch 89/100\n",
            "23/23 [==============================] - 2s 76ms/step - loss: 2.2590e-04 - val_loss: 2.3613e-04\n",
            "Epoch 90/100\n",
            "23/23 [==============================] - 2s 76ms/step - loss: 2.2507e-04 - val_loss: 1.9371e-04\n",
            "Epoch 91/100\n",
            "23/23 [==============================] - 2s 74ms/step - loss: 2.4220e-04 - val_loss: 2.2392e-04\n",
            "Epoch 92/100\n",
            "23/23 [==============================] - 2s 75ms/step - loss: 2.1442e-04 - val_loss: 2.1146e-04\n",
            "Epoch 93/100\n",
            "23/23 [==============================] - 2s 76ms/step - loss: 2.2112e-04 - val_loss: 1.7554e-04\n",
            "Epoch 94/100\n",
            "23/23 [==============================] - 2s 76ms/step - loss: 2.4366e-04 - val_loss: 1.7816e-04\n",
            "Epoch 95/100\n",
            "23/23 [==============================] - 2s 76ms/step - loss: 2.2036e-04 - val_loss: 2.3078e-04\n",
            "Epoch 96/100\n",
            "23/23 [==============================] - 2s 74ms/step - loss: 2.1779e-04 - val_loss: 2.3921e-04\n",
            "Epoch 97/100\n",
            "23/23 [==============================] - 2s 76ms/step - loss: 2.3928e-04 - val_loss: 2.1038e-04\n",
            "Epoch 98/100\n",
            "23/23 [==============================] - 2s 76ms/step - loss: 2.1527e-04 - val_loss: 2.6894e-04\n",
            "Epoch 99/100\n",
            "23/23 [==============================] - 2s 76ms/step - loss: 2.1238e-04 - val_loss: 1.7700e-04\n",
            "Epoch 100/100\n",
            "23/23 [==============================] - 2s 76ms/step - loss: 2.2447e-04 - val_loss: 1.7185e-04\n"
          ],
          "name": "stdout"
        },
        {
          "output_type": "execute_result",
          "data": {
            "text/plain": [
              "<keras.callbacks.History at 0x7f4a6d3253d0>"
            ]
          },
          "metadata": {},
          "execution_count": 29
        }
      ]
    },
    {
      "cell_type": "code",
      "metadata": {
        "id": "J9A7OW_aI-p2"
      },
      "source": [
        "train_predict=model.predict(X_train)\n",
        "test_predict=model.predict(X_test) ### the prediction and check performance metrics"
      ],
      "execution_count": 30,
      "outputs": []
    },
    {
      "cell_type": "code",
      "metadata": {
        "id": "j4Vroa2NJAYJ"
      },
      "source": [
        "train_predict=scaler.inverse_transform(train_predict)\n",
        "test_predict=scaler.inverse_transform(test_predict) #Transformback to original form"
      ],
      "execution_count": 32,
      "outputs": []
    },
    {
      "cell_type": "code",
      "metadata": {
        "colab": {
          "base_uri": "https://localhost:8080/"
        },
        "id": "BbeLH2tDJIdf",
        "outputId": "2819927e-bee9-45f4-ff14-b70b7e79f6c6"
      },
      "source": [
        "import math\n",
        "from sklearn.metrics import mean_squared_error\n",
        "math.sqrt(mean_squared_error(y_train,train_predict)) #Calculate RMSE performance metrics"
      ],
      "execution_count": 33,
      "outputs": [
        {
          "output_type": "execute_result",
          "data": {
            "text/plain": [
              "162.98754815683552"
            ]
          },
          "metadata": {},
          "execution_count": 33
        }
      ]
    },
    {
      "cell_type": "code",
      "metadata": {
        "colab": {
          "base_uri": "https://localhost:8080/"
        },
        "id": "WOZy6-x3JMe1",
        "outputId": "b0560eba-688e-40c0-fdad-741013d666a3"
      },
      "source": [
        "math.sqrt(mean_squared_error(ytest,test_predict)) \n",
        "### Test Data RMSE"
      ],
      "execution_count": 34,
      "outputs": [
        {
          "output_type": "execute_result",
          "data": {
            "text/plain": [
              "105.53298328587687"
            ]
          },
          "metadata": {},
          "execution_count": 34
        }
      ]
    },
    {
      "cell_type": "code",
      "metadata": {
        "colab": {
          "base_uri": "https://localhost:8080/",
          "height": 265
        },
        "id": "fzfXBUlJJT0i",
        "outputId": "314788dd-a955-4ca9-833e-bdc8cd9d1857"
      },
      "source": [
        "look_back=100\n",
        "trainPredictPlot = numpy.empty_like(df1)\n",
        "trainPredictPlot[:, :] = np.nan\n",
        "trainPredictPlot[look_back:len(train_predict)+look_back, :] = train_predict\n",
        "# shift test predictions for plotting\n",
        "testPredictPlot = numpy.empty_like(df1)\n",
        "testPredictPlot[:, :] = numpy.nan\n",
        "testPredictPlot[len(train_predict)+(look_back*2)+1:len(df1)-1, :] = test_predict\n",
        "# plot baseline and predictions\n",
        "plt.plot(scaler.inverse_transform(df1))\n",
        "plt.plot(trainPredictPlot)\n",
        "plt.plot(testPredictPlot)\n",
        "plt.show()\n",
        "### Plotting \n",
        "# shift train predictions for plotting"
      ],
      "execution_count": 35,
      "outputs": [
        {
          "output_type": "display_data",
          "data": {
            "image/png": "[encoded data removed]",
            "text/plain": [
              "<Figure size 432x288 with 1 Axes>"
            ]
          },
          "metadata": {
            "needs_background": "light"
          }
        }
      ]
    },
    {
      "cell_type": "code",
      "metadata": {
        "colab": {
          "base_uri": "https://localhost:8080/"
        },
        "id": "0dzfsT2ye6if",
        "outputId": "ca0c94dd-ed15-44e0-9e01-ddb9d5795bab"
      },
      "source": [
        "len(test_data)"
      ],
      "execution_count": 36,
      "outputs": [
        {
          "output_type": "execute_result",
          "data": {
            "text/plain": [
              "509"
            ]
          },
          "metadata": {},
          "execution_count": 36
        }
      ]
    },
    {
      "cell_type": "code",
      "metadata": {
        "colab": {
          "base_uri": "https://localhost:8080/"
        },
        "id": "A2cJwa70MI8d",
        "outputId": "34b94f1c-6d18-4cd3-f653-620818e23d74"
      },
      "source": [
        "x_input=test_data[409:].reshape(1,-1)\n",
        "x_input.shape"
      ],
      "execution_count": 37,
      "outputs": [
        {
          "output_type": "execute_result",
          "data": {
            "text/plain": [
              "(1, 100)"
            ]
          },
          "metadata": {},
          "execution_count": 37
        }
      ]
    },
    {
      "cell_type": "code",
      "metadata": {
        "id": "G8VAZXESMKxk"
      },
      "source": [
        "temp_input=list(x_input)\n",
        "temp_input=temp_input[0].tolist()"
      ],
      "execution_count": 38,
      "outputs": []
    },
    {
      "cell_type": "code",
      "metadata": {
        "colab": {
          "base_uri": "https://localhost:8080/"
        },
        "id": "fXMXmcGFMP4f",
        "outputId": "e5f3cbe5-c8f0-43a1-a9be-6018fda73d53"
      },
      "source": [
        "\n",
        "temp_input"
      ],
      "execution_count": 39,
      "outputs": [
        {
          "output_type": "execute_result",
          "data": {
            "text/plain": [
              "[0.12479575163398693,\n",
              " 0.1384803921568627,\n",
              " 0.14011437908496732,\n",
              " 0.1388888888888889,\n",
              " 0.13541666666666663,\n",
              " 0.14011437908496732,\n",
              " 0.13807189542483655,\n",
              " 0.130718954248366,\n",
              " 0.130718954248366,\n",
              " 0.12867647058823528,\n",
              " 0.11846405228758167,\n",
              " 0.14644607843137253,\n",
              " 0.1480800653594771,\n",
              " 0.159109477124183,\n",
              " 0.15992647058823523,\n",
              " 0.1578839869281045,\n",
              " 0.16441993464052285,\n",
              " 0.178921568627451,\n",
              " 0.17933006535947704,\n",
              " 0.19260620915032678,\n",
              " 0.2081290849673203,\n",
              " 0.18974673202614378,\n",
              " 0.18055555555555558,\n",
              " 0.1823937908496731,\n",
              " 0.17708333333333326,\n",
              " 0.17810457516339862,\n",
              " 0.18055555555555558,\n",
              " 0.17810457516339862,\n",
              " 0.17851307189542487,\n",
              " 0.196078431372549,\n",
              " 0.18913398692810457,\n",
              " 0.1895424836601307,\n",
              " 0.19403594771241828,\n",
              " 0.19444444444444442,\n",
              " 0.20200163398692816,\n",
              " 0.19771241830065356,\n",
              " 0.19934640522875813,\n",
              " 0.19873366013071891,\n",
              " 0.19975490196078427,\n",
              " 0.21282679738562094,\n",
              " 0.21568627450980393,\n",
              " 0.2044526143790849,\n",
              " 0.21772875816993464,\n",
              " 0.21098856209150318,\n",
              " 0.21425653594771243,\n",
              " 0.1975081699346406,\n",
              " 0.1881127450980392,\n",
              " 0.17851307189542487,\n",
              " 0.17381535947712412,\n",
              " 0.16033496732026142,\n",
              " 0.16564542483660127,\n",
              " 0.1711601307189542,\n",
              " 0.17422385620915026,\n",
              " 0.1803513071895424,\n",
              " 0.1740196078431372,\n",
              " 0.16278594771241828,\n",
              " 0.1697303921568627,\n",
              " 0.17810457516339862,\n",
              " 0.1703431372549019,\n",
              " 0.16830065359477125,\n",
              " 0.17279411764705876,\n",
              " 0.1754493464052288,\n",
              " 0.18382352941176472,\n",
              " 0.19138071895424835,\n",
              " 0.18913398692810457,\n",
              " 0.1909722222222222,\n",
              " 0.17238562091503273,\n",
              " 0.16830065359477125,\n",
              " 0.16932189542483655,\n",
              " 0.1717728758169934,\n",
              " 0.16156045751633985,\n",
              " 0.14971405228758167,\n",
              " 0.15032679738562088,\n",
              " 0.1519607843137255,\n",
              " 0.1472630718954248,\n",
              " 0.14501633986928103,\n",
              " 0.14603758169934639,\n",
              " 0.12479575163398693,\n",
              " 0.13112745098039214,\n",
              " 0.11397058823529405,\n",
              " 0.11907679738562088,\n",
              " 0.12377450980392157,\n",
              " 0.13562091503267976,\n",
              " 0.12908496732026142,\n",
              " 0.1345996732026144,\n",
              " 0.12806372549019607,\n",
              " 0.13031045751633985,\n",
              " 0.12724673202614373,\n",
              " 0.13521241830065356,\n",
              " 0.1452205882352941,\n",
              " 0.15257352941176466,\n",
              " 0.14848856209150324,\n",
              " 0.14338235294117646,\n",
              " 0.14562908496732024,\n",
              " 0.1523692810457516,\n",
              " 0.15400326797385622,\n",
              " 0.14971405228758167,\n",
              " 0.16217320261437906,\n",
              " 0.16319444444444448,\n",
              " 0.16584967320261434]"
            ]
          },
          "metadata": {},
          "execution_count": 39
        }
      ]
    },
    {
      "cell_type": "code",
      "metadata": {
        "id": "PXXE_C2VTM8F"
      },
      "source": [
        ""
      ],
      "execution_count": null,
      "outputs": []
    },
    {
      "cell_type": "code",
      "metadata": {
        "colab": {
          "base_uri": "https://localhost:8080/"
        },
        "id": "8J1wjaidMUc2",
        "outputId": "e03ca08f-6fa9-401f-82af-e2cd9fff5e51"
      },
      "source": [
        "from numpy import array  #demonstrate prediction for next 10 days\n",
        "\n",
        "lst_output=[]\n",
        "n_steps=100\n",
        "i=0\n",
        "while(i<30):\n",
        "    \n",
        "    if(len(temp_input)>100):\n",
        "        #print(temp_input)\n",
        "        x_input=np.array(temp_input[1:])\n",
        "        print(\"{} day input {}\".format(i,x_input))\n",
        "        x_input=x_input.reshape(1,-1)\n",
        "        x_input = x_input.reshape((1, n_steps, 1))\n",
        "        #print(x_input)\n",
        "        yhat = model.predict(x_input, verbose=0)\n",
        "        print(\"{} day output {}\".format(i,yhat))\n",
        "        temp_input.extend(yhat[0].tolist())\n",
        "        temp_input=temp_input[1:]\n",
        "        #print(temp_input)\n",
        "        lst_output.extend(yhat.tolist())\n",
        "        i=i+1\n",
        "    else:\n",
        "        x_input = x_input.reshape((1, n_steps,1))\n",
        "        yhat = model.predict(x_input, verbose=0)\n",
        "        print(yhat[0])\n",
        "        temp_input.extend(yhat[0].tolist())\n",
        "        print(len(temp_input))\n",
        "        lst_output.extend(yhat.tolist())\n",
        "        i=i+1\n",
        "    \n",
        "\n",
        "print(lst_output)"
      ],
      "execution_count": 40,
      "outputs": [
        {
          "output_type": "stream",
          "text": [
            "[0.16568424]\n",
            "101\n",
            "1 day input [0.13848039 0.14011438 0.13888889 0.13541667 0.14011438 0.1380719\n",
            " 0.13071895 0.13071895 0.12867647 0.11846405 0.14644608 0.14808007\n",
            " 0.15910948 0.15992647 0.15788399 0.16441993 0.17892157 0.17933007\n",
            " 0.19260621 0.20812908 0.18974673 0.18055556 0.18239379 0.17708333\n",
            " 0.17810458 0.18055556 0.17810458 0.17851307 0.19607843 0.18913399\n",
            " 0.18954248 0.19403595 0.19444444 0.20200163 0.19771242 0.19934641\n",
            " 0.19873366 0.1997549  0.2128268  0.21568627 0.20445261 0.21772876\n",
            " 0.21098856 0.21425654 0.19750817 0.18811275 0.17851307 0.17381536\n",
            " 0.16033497 0.16564542 0.17116013 0.17422386 0.18035131 0.17401961\n",
            " 0.16278595 0.16973039 0.17810458 0.17034314 0.16830065 0.17279412\n",
            " 0.17544935 0.18382353 0.19138072 0.18913399 0.19097222 0.17238562\n",
            " 0.16830065 0.1693219  0.17177288 0.16156046 0.14971405 0.1503268\n",
            " 0.15196078 0.14726307 0.14501634 0.14603758 0.12479575 0.13112745\n",
            " 0.11397059 0.1190768  0.12377451 0.13562092 0.12908497 0.13459967\n",
            " 0.12806373 0.13031046 0.12724673 0.13521242 0.14522059 0.15257353\n",
            " 0.14848856 0.14338235 0.14562908 0.15236928 0.15400327 0.14971405\n",
            " 0.1621732  0.16319444 0.16584967 0.16568424]\n",
            "1 day output [[0.1671307]]\n",
            "2 day input [0.14011438 0.13888889 0.13541667 0.14011438 0.1380719  0.13071895\n",
            " 0.13071895 0.12867647 0.11846405 0.14644608 0.14808007 0.15910948\n",
            " 0.15992647 0.15788399 0.16441993 0.17892157 0.17933007 0.19260621\n",
            " 0.20812908 0.18974673 0.18055556 0.18239379 0.17708333 0.17810458\n",
            " 0.18055556 0.17810458 0.17851307 0.19607843 0.18913399 0.18954248\n",
            " 0.19403595 0.19444444 0.20200163 0.19771242 0.19934641 0.19873366\n",
            " 0.1997549  0.2128268  0.21568627 0.20445261 0.21772876 0.21098856\n",
            " 0.21425654 0.19750817 0.18811275 0.17851307 0.17381536 0.16033497\n",
            " 0.16564542 0.17116013 0.17422386 0.18035131 0.17401961 0.16278595\n",
            " 0.16973039 0.17810458 0.17034314 0.16830065 0.17279412 0.17544935\n",
            " 0.18382353 0.19138072 0.18913399 0.19097222 0.17238562 0.16830065\n",
            " 0.1693219  0.17177288 0.16156046 0.14971405 0.1503268  0.15196078\n",
            " 0.14726307 0.14501634 0.14603758 0.12479575 0.13112745 0.11397059\n",
            " 0.1190768  0.12377451 0.13562092 0.12908497 0.13459967 0.12806373\n",
            " 0.13031046 0.12724673 0.13521242 0.14522059 0.15257353 0.14848856\n",
            " 0.14338235 0.14562908 0.15236928 0.15400327 0.14971405 0.1621732\n",
            " 0.16319444 0.16584967 0.16568424 0.16713069]\n",
            "2 day output [[0.16767532]]\n",
            "3 day input [0.13888889 0.13541667 0.14011438 0.1380719  0.13071895 0.13071895\n",
            " 0.12867647 0.11846405 0.14644608 0.14808007 0.15910948 0.15992647\n",
            " 0.15788399 0.16441993 0.17892157 0.17933007 0.19260621 0.20812908\n",
            " 0.18974673 0.18055556 0.18239379 0.17708333 0.17810458 0.18055556\n",
            " 0.17810458 0.17851307 0.19607843 0.18913399 0.18954248 0.19403595\n",
            " 0.19444444 0.20200163 0.19771242 0.19934641 0.19873366 0.1997549\n",
            " 0.2128268  0.21568627 0.20445261 0.21772876 0.21098856 0.21425654\n",
            " 0.19750817 0.18811275 0.17851307 0.17381536 0.16033497 0.16564542\n",
            " 0.17116013 0.17422386 0.18035131 0.17401961 0.16278595 0.16973039\n",
            " 0.17810458 0.17034314 0.16830065 0.17279412 0.17544935 0.18382353\n",
            " 0.19138072 0.18913399 0.19097222 0.17238562 0.16830065 0.1693219\n",
            " 0.17177288 0.16156046 0.14971405 0.1503268  0.15196078 0.14726307\n",
            " 0.14501634 0.14603758 0.12479575 0.13112745 0.11397059 0.1190768\n",
            " 0.12377451 0.13562092 0.12908497 0.13459967 0.12806373 0.13031046\n",
            " 0.12724673 0.13521242 0.14522059 0.15257353 0.14848856 0.14338235\n",
            " 0.14562908 0.15236928 0.15400327 0.14971405 0.1621732  0.16319444\n",
            " 0.16584967 0.16568424 0.16713069 0.16767532]\n",
            "3 day output [[0.1679162]]\n",
            "4 day input [0.13541667 0.14011438 0.1380719  0.13071895 0.13071895 0.12867647\n",
            " 0.11846405 0.14644608 0.14808007 0.15910948 0.15992647 0.15788399\n",
            " 0.16441993 0.17892157 0.17933007 0.19260621 0.20812908 0.18974673\n",
            " 0.18055556 0.18239379 0.17708333 0.17810458 0.18055556 0.17810458\n",
            " 0.17851307 0.19607843 0.18913399 0.18954248 0.19403595 0.19444444\n",
            " 0.20200163 0.19771242 0.19934641 0.19873366 0.1997549  0.2128268\n",
            " 0.21568627 0.20445261 0.21772876 0.21098856 0.21425654 0.19750817\n",
            " 0.18811275 0.17851307 0.17381536 0.16033497 0.16564542 0.17116013\n",
            " 0.17422386 0.18035131 0.17401961 0.16278595 0.16973039 0.17810458\n",
            " 0.17034314 0.16830065 0.17279412 0.17544935 0.18382353 0.19138072\n",
            " 0.18913399 0.19097222 0.17238562 0.16830065 0.1693219  0.17177288\n",
            " 0.16156046 0.14971405 0.1503268  0.15196078 0.14726307 0.14501634\n",
            " 0.14603758 0.12479575 0.13112745 0.11397059 0.1190768  0.12377451\n",
            " 0.13562092 0.12908497 0.13459967 0.12806373 0.13031046 0.12724673\n",
            " 0.13521242 0.14522059 0.15257353 0.14848856 0.14338235 0.14562908\n",
            " 0.15236928 0.15400327 0.14971405 0.1621732  0.16319444 0.16584967\n",
            " 0.16568424 0.16713069 0.16767532 0.16791619]\n",
            "4 day output [[0.16807088]]\n",
            "5 day input [0.14011438 0.1380719  0.13071895 0.13071895 0.12867647 0.11846405\n",
            " 0.14644608 0.14808007 0.15910948 0.15992647 0.15788399 0.16441993\n",
            " 0.17892157 0.17933007 0.19260621 0.20812908 0.18974673 0.18055556\n",
            " 0.18239379 0.17708333 0.17810458 0.18055556 0.17810458 0.17851307\n",
            " 0.19607843 0.18913399 0.18954248 0.19403595 0.19444444 0.20200163\n",
            " 0.19771242 0.19934641 0.19873366 0.1997549  0.2128268  0.21568627\n",
            " 0.20445261 0.21772876 0.21098856 0.21425654 0.19750817 0.18811275\n",
            " 0.17851307 0.17381536 0.16033497 0.16564542 0.17116013 0.17422386\n",
            " 0.18035131 0.17401961 0.16278595 0.16973039 0.17810458 0.17034314\n",
            " 0.16830065 0.17279412 0.17544935 0.18382353 0.19138072 0.18913399\n",
            " 0.19097222 0.17238562 0.16830065 0.1693219  0.17177288 0.16156046\n",
            " 0.14971405 0.1503268  0.15196078 0.14726307 0.14501634 0.14603758\n",
            " 0.12479575 0.13112745 0.11397059 0.1190768  0.12377451 0.13562092\n",
            " 0.12908497 0.13459967 0.12806373 0.13031046 0.12724673 0.13521242\n",
            " 0.14522059 0.15257353 0.14848856 0.14338235 0.14562908 0.15236928\n",
            " 0.15400327 0.14971405 0.1621732  0.16319444 0.16584967 0.16568424\n",
            " 0.16713069 0.16767532 0.16791619 0.16807088]\n",
            "5 day output [[0.16822922]]\n",
            "6 day input [0.1380719  0.13071895 0.13071895 0.12867647 0.11846405 0.14644608\n",
            " 0.14808007 0.15910948 0.15992647 0.15788399 0.16441993 0.17892157\n",
            " 0.17933007 0.19260621 0.20812908 0.18974673 0.18055556 0.18239379\n",
            " 0.17708333 0.17810458 0.18055556 0.17810458 0.17851307 0.19607843\n",
            " 0.18913399 0.18954248 0.19403595 0.19444444 0.20200163 0.19771242\n",
            " 0.19934641 0.19873366 0.1997549  0.2128268  0.21568627 0.20445261\n",
            " 0.21772876 0.21098856 0.21425654 0.19750817 0.18811275 0.17851307\n",
            " 0.17381536 0.16033497 0.16564542 0.17116013 0.17422386 0.18035131\n",
            " 0.17401961 0.16278595 0.16973039 0.17810458 0.17034314 0.16830065\n",
            " 0.17279412 0.17544935 0.18382353 0.19138072 0.18913399 0.19097222\n",
            " 0.17238562 0.16830065 0.1693219  0.17177288 0.16156046 0.14971405\n",
            " 0.1503268  0.15196078 0.14726307 0.14501634 0.14603758 0.12479575\n",
            " 0.13112745 0.11397059 0.1190768  0.12377451 0.13562092 0.12908497\n",
            " 0.13459967 0.12806373 0.13031046 0.12724673 0.13521242 0.14522059\n",
            " 0.15257353 0.14848856 0.14338235 0.14562908 0.15236928 0.15400327\n",
            " 0.14971405 0.1621732  0.16319444 0.16584967 0.16568424 0.16713069\n",
            " 0.16767532 0.16791619 0.16807088 0.16822922]\n",
            "6 day output [[0.16843115]]\n",
            "7 day input [0.13071895 0.13071895 0.12867647 0.11846405 0.14644608 0.14808007\n",
            " 0.15910948 0.15992647 0.15788399 0.16441993 0.17892157 0.17933007\n",
            " 0.19260621 0.20812908 0.18974673 0.18055556 0.18239379 0.17708333\n",
            " 0.17810458 0.18055556 0.17810458 0.17851307 0.19607843 0.18913399\n",
            " 0.18954248 0.19403595 0.19444444 0.20200163 0.19771242 0.19934641\n",
            " 0.19873366 0.1997549  0.2128268  0.21568627 0.20445261 0.21772876\n",
            " 0.21098856 0.21425654 0.19750817 0.18811275 0.17851307 0.17381536\n",
            " 0.16033497 0.16564542 0.17116013 0.17422386 0.18035131 0.17401961\n",
            " 0.16278595 0.16973039 0.17810458 0.17034314 0.16830065 0.17279412\n",
            " 0.17544935 0.18382353 0.19138072 0.18913399 0.19097222 0.17238562\n",
            " 0.16830065 0.1693219  0.17177288 0.16156046 0.14971405 0.1503268\n",
            " 0.15196078 0.14726307 0.14501634 0.14603758 0.12479575 0.13112745\n",
            " 0.11397059 0.1190768  0.12377451 0.13562092 0.12908497 0.13459967\n",
            " 0.12806373 0.13031046 0.12724673 0.13521242 0.14522059 0.15257353\n",
            " 0.14848856 0.14338235 0.14562908 0.15236928 0.15400327 0.14971405\n",
            " 0.1621732  0.16319444 0.16584967 0.16568424 0.16713069 0.16767532\n",
            " 0.16791619 0.16807088 0.16822922 0.16843115]\n",
            "7 day output [[0.16868585]]\n",
            "8 day input [0.13071895 0.12867647 0.11846405 0.14644608 0.14808007 0.15910948\n",
            " 0.15992647 0.15788399 0.16441993 0.17892157 0.17933007 0.19260621\n",
            " 0.20812908 0.18974673 0.18055556 0.18239379 0.17708333 0.17810458\n",
            " 0.18055556 0.17810458 0.17851307 0.19607843 0.18913399 0.18954248\n",
            " 0.19403595 0.19444444 0.20200163 0.19771242 0.19934641 0.19873366\n",
            " 0.1997549  0.2128268  0.21568627 0.20445261 0.21772876 0.21098856\n",
            " 0.21425654 0.19750817 0.18811275 0.17851307 0.17381536 0.16033497\n",
            " 0.16564542 0.17116013 0.17422386 0.18035131 0.17401961 0.16278595\n",
            " 0.16973039 0.17810458 0.17034314 0.16830065 0.17279412 0.17544935\n",
            " 0.18382353 0.19138072 0.18913399 0.19097222 0.17238562 0.16830065\n",
            " 0.1693219  0.17177288 0.16156046 0.14971405 0.1503268  0.15196078\n",
            " 0.14726307 0.14501634 0.14603758 0.12479575 0.13112745 0.11397059\n",
            " 0.1190768  0.12377451 0.13562092 0.12908497 0.13459967 0.12806373\n",
            " 0.13031046 0.12724673 0.13521242 0.14522059 0.15257353 0.14848856\n",
            " 0.14338235 0.14562908 0.15236928 0.15400327 0.14971405 0.1621732\n",
            " 0.16319444 0.16584967 0.16568424 0.16713069 0.16767532 0.16791619\n",
            " 0.16807088 0.16822922 0.16843115 0.16868585]\n",
            "8 day output [[0.16898285]]\n",
            "9 day input [0.12867647 0.11846405 0.14644608 0.14808007 0.15910948 0.15992647\n",
            " 0.15788399 0.16441993 0.17892157 0.17933007 0.19260621 0.20812908\n",
            " 0.18974673 0.18055556 0.18239379 0.17708333 0.17810458 0.18055556\n",
            " 0.17810458 0.17851307 0.19607843 0.18913399 0.18954248 0.19403595\n",
            " 0.19444444 0.20200163 0.19771242 0.19934641 0.19873366 0.1997549\n",
            " 0.2128268  0.21568627 0.20445261 0.21772876 0.21098856 0.21425654\n",
            " 0.19750817 0.18811275 0.17851307 0.17381536 0.16033497 0.16564542\n",
            " 0.17116013 0.17422386 0.18035131 0.17401961 0.16278595 0.16973039\n",
            " 0.17810458 0.17034314 0.16830065 0.17279412 0.17544935 0.18382353\n",
            " 0.19138072 0.18913399 0.19097222 0.17238562 0.16830065 0.1693219\n",
            " 0.17177288 0.16156046 0.14971405 0.1503268  0.15196078 0.14726307\n",
            " 0.14501634 0.14603758 0.12479575 0.13112745 0.11397059 0.1190768\n",
            " 0.12377451 0.13562092 0.12908497 0.13459967 0.12806373 0.13031046\n",
            " 0.12724673 0.13521242 0.14522059 0.15257353 0.14848856 0.14338235\n",
            " 0.14562908 0.15236928 0.15400327 0.14971405 0.1621732  0.16319444\n",
            " 0.16584967 0.16568424 0.16713069 0.16767532 0.16791619 0.16807088\n",
            " 0.16822922 0.16843115 0.16868585 0.16898285]\n",
            "9 day output [[0.16930272]]\n",
            "10 day input [0.11846405 0.14644608 0.14808007 0.15910948 0.15992647 0.15788399\n",
            " 0.16441993 0.17892157 0.17933007 0.19260621 0.20812908 0.18974673\n",
            " 0.18055556 0.18239379 0.17708333 0.17810458 0.18055556 0.17810458\n",
            " 0.17851307 0.19607843 0.18913399 0.18954248 0.19403595 0.19444444\n",
            " 0.20200163 0.19771242 0.19934641 0.19873366 0.1997549  0.2128268\n",
            " 0.21568627 0.20445261 0.21772876 0.21098856 0.21425654 0.19750817\n",
            " 0.18811275 0.17851307 0.17381536 0.16033497 0.16564542 0.17116013\n",
            " 0.17422386 0.18035131 0.17401961 0.16278595 0.16973039 0.17810458\n",
            " 0.17034314 0.16830065 0.17279412 0.17544935 0.18382353 0.19138072\n",
            " 0.18913399 0.19097222 0.17238562 0.16830065 0.1693219  0.17177288\n",
            " 0.16156046 0.14971405 0.1503268  0.15196078 0.14726307 0.14501634\n",
            " 0.14603758 0.12479575 0.13112745 0.11397059 0.1190768  0.12377451\n",
            " 0.13562092 0.12908497 0.13459967 0.12806373 0.13031046 0.12724673\n",
            " 0.13521242 0.14522059 0.15257353 0.14848856 0.14338235 0.14562908\n",
            " 0.15236928 0.15400327 0.14971405 0.1621732  0.16319444 0.16584967\n",
            " 0.16568424 0.16713069 0.16767532 0.16791619 0.16807088 0.16822922\n",
            " 0.16843115 0.16868585 0.16898285 0.16930272]\n",
            "10 day output [[0.16962564]]\n",
            "11 day input [0.14644608 0.14808007 0.15910948 0.15992647 0.15788399 0.16441993\n",
            " 0.17892157 0.17933007 0.19260621 0.20812908 0.18974673 0.18055556\n",
            " 0.18239379 0.17708333 0.17810458 0.18055556 0.17810458 0.17851307\n",
            " 0.19607843 0.18913399 0.18954248 0.19403595 0.19444444 0.20200163\n",
            " 0.19771242 0.19934641 0.19873366 0.1997549  0.2128268  0.21568627\n",
            " 0.20445261 0.21772876 0.21098856 0.21425654 0.19750817 0.18811275\n",
            " 0.17851307 0.17381536 0.16033497 0.16564542 0.17116013 0.17422386\n",
            " 0.18035131 0.17401961 0.16278595 0.16973039 0.17810458 0.17034314\n",
            " 0.16830065 0.17279412 0.17544935 0.18382353 0.19138072 0.18913399\n",
            " 0.19097222 0.17238562 0.16830065 0.1693219  0.17177288 0.16156046\n",
            " 0.14971405 0.1503268  0.15196078 0.14726307 0.14501634 0.14603758\n",
            " 0.12479575 0.13112745 0.11397059 0.1190768  0.12377451 0.13562092\n",
            " 0.12908497 0.13459967 0.12806373 0.13031046 0.12724673 0.13521242\n",
            " 0.14522059 0.15257353 0.14848856 0.14338235 0.14562908 0.15236928\n",
            " 0.15400327 0.14971405 0.1621732  0.16319444 0.16584967 0.16568424\n",
            " 0.16713069 0.16767532 0.16791619 0.16807088 0.16822922 0.16843115\n",
            " 0.16868585 0.16898285 0.16930272 0.16962564]\n",
            "11 day output [[0.16993682]]\n",
            "12 day input [0.14808007 0.15910948 0.15992647 0.15788399 0.16441993 0.17892157\n",
            " 0.17933007 0.19260621 0.20812908 0.18974673 0.18055556 0.18239379\n",
            " 0.17708333 0.17810458 0.18055556 0.17810458 0.17851307 0.19607843\n",
            " 0.18913399 0.18954248 0.19403595 0.19444444 0.20200163 0.19771242\n",
            " 0.19934641 0.19873366 0.1997549  0.2128268  0.21568627 0.20445261\n",
            " 0.21772876 0.21098856 0.21425654 0.19750817 0.18811275 0.17851307\n",
            " 0.17381536 0.16033497 0.16564542 0.17116013 0.17422386 0.18035131\n",
            " 0.17401961 0.16278595 0.16973039 0.17810458 0.17034314 0.16830065\n",
            " 0.17279412 0.17544935 0.18382353 0.19138072 0.18913399 0.19097222\n",
            " 0.17238562 0.16830065 0.1693219  0.17177288 0.16156046 0.14971405\n",
            " 0.1503268  0.15196078 0.14726307 0.14501634 0.14603758 0.12479575\n",
            " 0.13112745 0.11397059 0.1190768  0.12377451 0.13562092 0.12908497\n",
            " 0.13459967 0.12806373 0.13031046 0.12724673 0.13521242 0.14522059\n",
            " 0.15257353 0.14848856 0.14338235 0.14562908 0.15236928 0.15400327\n",
            " 0.14971405 0.1621732  0.16319444 0.16584967 0.16568424 0.16713069\n",
            " 0.16767532 0.16791619 0.16807088 0.16822922 0.16843115 0.16868585\n",
            " 0.16898285 0.16930272 0.16962564 0.16993682]\n",
            "12 day output [[0.17022854]]\n",
            "13 day input [0.15910948 0.15992647 0.15788399 0.16441993 0.17892157 0.17933007\n",
            " 0.19260621 0.20812908 0.18974673 0.18055556 0.18239379 0.17708333\n",
            " 0.17810458 0.18055556 0.17810458 0.17851307 0.19607843 0.18913399\n",
            " 0.18954248 0.19403595 0.19444444 0.20200163 0.19771242 0.19934641\n",
            " 0.19873366 0.1997549  0.2128268  0.21568627 0.20445261 0.21772876\n",
            " 0.21098856 0.21425654 0.19750817 0.18811275 0.17851307 0.17381536\n",
            " 0.16033497 0.16564542 0.17116013 0.17422386 0.18035131 0.17401961\n",
            " 0.16278595 0.16973039 0.17810458 0.17034314 0.16830065 0.17279412\n",
            " 0.17544935 0.18382353 0.19138072 0.18913399 0.19097222 0.17238562\n",
            " 0.16830065 0.1693219  0.17177288 0.16156046 0.14971405 0.1503268\n",
            " 0.15196078 0.14726307 0.14501634 0.14603758 0.12479575 0.13112745\n",
            " 0.11397059 0.1190768  0.12377451 0.13562092 0.12908497 0.13459967\n",
            " 0.12806373 0.13031046 0.12724673 0.13521242 0.14522059 0.15257353\n",
            " 0.14848856 0.14338235 0.14562908 0.15236928 0.15400327 0.14971405\n",
            " 0.1621732  0.16319444 0.16584967 0.16568424 0.16713069 0.16767532\n",
            " 0.16791619 0.16807088 0.16822922 0.16843115 0.16868585 0.16898285\n",
            " 0.16930272 0.16962564 0.16993682 0.17022854]\n",
            "13 day output [[0.17050004]]\n",
            "14 day input [0.15992647 0.15788399 0.16441993 0.17892157 0.17933007 0.19260621\n",
            " 0.20812908 0.18974673 0.18055556 0.18239379 0.17708333 0.17810458\n",
            " 0.18055556 0.17810458 0.17851307 0.19607843 0.18913399 0.18954248\n",
            " 0.19403595 0.19444444 0.20200163 0.19771242 0.19934641 0.19873366\n",
            " 0.1997549  0.2128268  0.21568627 0.20445261 0.21772876 0.21098856\n",
            " 0.21425654 0.19750817 0.18811275 0.17851307 0.17381536 0.16033497\n",
            " 0.16564542 0.17116013 0.17422386 0.18035131 0.17401961 0.16278595\n",
            " 0.16973039 0.17810458 0.17034314 0.16830065 0.17279412 0.17544935\n",
            " 0.18382353 0.19138072 0.18913399 0.19097222 0.17238562 0.16830065\n",
            " 0.1693219  0.17177288 0.16156046 0.14971405 0.1503268  0.15196078\n",
            " 0.14726307 0.14501634 0.14603758 0.12479575 0.13112745 0.11397059\n",
            " 0.1190768  0.12377451 0.13562092 0.12908497 0.13459967 0.12806373\n",
            " 0.13031046 0.12724673 0.13521242 0.14522059 0.15257353 0.14848856\n",
            " 0.14338235 0.14562908 0.15236928 0.15400327 0.14971405 0.1621732\n",
            " 0.16319444 0.16584967 0.16568424 0.16713069 0.16767532 0.16791619\n",
            " 0.16807088 0.16822922 0.16843115 0.16868585 0.16898285 0.16930272\n",
            " 0.16962564 0.16993682 0.17022854 0.17050004]\n",
            "14 day output [[0.17075552]]\n",
            "15 day input [0.15788399 0.16441993 0.17892157 0.17933007 0.19260621 0.20812908\n",
            " 0.18974673 0.18055556 0.18239379 0.17708333 0.17810458 0.18055556\n",
            " 0.17810458 0.17851307 0.19607843 0.18913399 0.18954248 0.19403595\n",
            " 0.19444444 0.20200163 0.19771242 0.19934641 0.19873366 0.1997549\n",
            " 0.2128268  0.21568627 0.20445261 0.21772876 0.21098856 0.21425654\n",
            " 0.19750817 0.18811275 0.17851307 0.17381536 0.16033497 0.16564542\n",
            " 0.17116013 0.17422386 0.18035131 0.17401961 0.16278595 0.16973039\n",
            " 0.17810458 0.17034314 0.16830065 0.17279412 0.17544935 0.18382353\n",
            " 0.19138072 0.18913399 0.19097222 0.17238562 0.16830065 0.1693219\n",
            " 0.17177288 0.16156046 0.14971405 0.1503268  0.15196078 0.14726307\n",
            " 0.14501634 0.14603758 0.12479575 0.13112745 0.11397059 0.1190768\n",
            " 0.12377451 0.13562092 0.12908497 0.13459967 0.12806373 0.13031046\n",
            " 0.12724673 0.13521242 0.14522059 0.15257353 0.14848856 0.14338235\n",
            " 0.14562908 0.15236928 0.15400327 0.14971405 0.1621732  0.16319444\n",
            " 0.16584967 0.16568424 0.16713069 0.16767532 0.16791619 0.16807088\n",
            " 0.16822922 0.16843115 0.16868585 0.16898285 0.16930272 0.16962564\n",
            " 0.16993682 0.17022854 0.17050004 0.17075552]\n",
            "15 day output [[0.17100193]]\n",
            "16 day input [0.16441993 0.17892157 0.17933007 0.19260621 0.20812908 0.18974673\n",
            " 0.18055556 0.18239379 0.17708333 0.17810458 0.18055556 0.17810458\n",
            " 0.17851307 0.19607843 0.18913399 0.18954248 0.19403595 0.19444444\n",
            " 0.20200163 0.19771242 0.19934641 0.19873366 0.1997549  0.2128268\n",
            " 0.21568627 0.20445261 0.21772876 0.21098856 0.21425654 0.19750817\n",
            " 0.18811275 0.17851307 0.17381536 0.16033497 0.16564542 0.17116013\n",
            " 0.17422386 0.18035131 0.17401961 0.16278595 0.16973039 0.17810458\n",
            " 0.17034314 0.16830065 0.17279412 0.17544935 0.18382353 0.19138072\n",
            " 0.18913399 0.19097222 0.17238562 0.16830065 0.1693219  0.17177288\n",
            " 0.16156046 0.14971405 0.1503268  0.15196078 0.14726307 0.14501634\n",
            " 0.14603758 0.12479575 0.13112745 0.11397059 0.1190768  0.12377451\n",
            " 0.13562092 0.12908497 0.13459967 0.12806373 0.13031046 0.12724673\n",
            " 0.13521242 0.14522059 0.15257353 0.14848856 0.14338235 0.14562908\n",
            " 0.15236928 0.15400327 0.14971405 0.1621732  0.16319444 0.16584967\n",
            " 0.16568424 0.16713069 0.16767532 0.16791619 0.16807088 0.16822922\n",
            " 0.16843115 0.16868585 0.16898285 0.16930272 0.16962564 0.16993682\n",
            " 0.17022854 0.17050004 0.17075552 0.17100193]\n",
            "16 day output [[0.17124663]]\n",
            "17 day input [0.17892157 0.17933007 0.19260621 0.20812908 0.18974673 0.18055556\n",
            " 0.18239379 0.17708333 0.17810458 0.18055556 0.17810458 0.17851307\n",
            " 0.19607843 0.18913399 0.18954248 0.19403595 0.19444444 0.20200163\n",
            " 0.19771242 0.19934641 0.19873366 0.1997549  0.2128268  0.21568627\n",
            " 0.20445261 0.21772876 0.21098856 0.21425654 0.19750817 0.18811275\n",
            " 0.17851307 0.17381536 0.16033497 0.16564542 0.17116013 0.17422386\n",
            " 0.18035131 0.17401961 0.16278595 0.16973039 0.17810458 0.17034314\n",
            " 0.16830065 0.17279412 0.17544935 0.18382353 0.19138072 0.18913399\n",
            " 0.19097222 0.17238562 0.16830065 0.1693219  0.17177288 0.16156046\n",
            " 0.14971405 0.1503268  0.15196078 0.14726307 0.14501634 0.14603758\n",
            " 0.12479575 0.13112745 0.11397059 0.1190768  0.12377451 0.13562092\n",
            " 0.12908497 0.13459967 0.12806373 0.13031046 0.12724673 0.13521242\n",
            " 0.14522059 0.15257353 0.14848856 0.14338235 0.14562908 0.15236928\n",
            " 0.15400327 0.14971405 0.1621732  0.16319444 0.16584967 0.16568424\n",
            " 0.16713069 0.16767532 0.16791619 0.16807088 0.16822922 0.16843115\n",
            " 0.16868585 0.16898285 0.16930272 0.16962564 0.16993682 0.17022854\n",
            " 0.17050004 0.17075552 0.17100193 0.17124663]\n",
            "17 day output [[0.1714957]]\n",
            "18 day input [0.17933007 0.19260621 0.20812908 0.18974673 0.18055556 0.18239379\n",
            " 0.17708333 0.17810458 0.18055556 0.17810458 0.17851307 0.19607843\n",
            " 0.18913399 0.18954248 0.19403595 0.19444444 0.20200163 0.19771242\n",
            " 0.19934641 0.19873366 0.1997549  0.2128268  0.21568627 0.20445261\n",
            " 0.21772876 0.21098856 0.21425654 0.19750817 0.18811275 0.17851307\n",
            " 0.17381536 0.16033497 0.16564542 0.17116013 0.17422386 0.18035131\n",
            " 0.17401961 0.16278595 0.16973039 0.17810458 0.17034314 0.16830065\n",
            " 0.17279412 0.17544935 0.18382353 0.19138072 0.18913399 0.19097222\n",
            " 0.17238562 0.16830065 0.1693219  0.17177288 0.16156046 0.14971405\n",
            " 0.1503268  0.15196078 0.14726307 0.14501634 0.14603758 0.12479575\n",
            " 0.13112745 0.11397059 0.1190768  0.12377451 0.13562092 0.12908497\n",
            " 0.13459967 0.12806373 0.13031046 0.12724673 0.13521242 0.14522059\n",
            " 0.15257353 0.14848856 0.14338235 0.14562908 0.15236928 0.15400327\n",
            " 0.14971405 0.1621732  0.16319444 0.16584967 0.16568424 0.16713069\n",
            " 0.16767532 0.16791619 0.16807088 0.16822922 0.16843115 0.16868585\n",
            " 0.16898285 0.16930272 0.16962564 0.16993682 0.17022854 0.17050004\n",
            " 0.17075552 0.17100193 0.17124663 0.17149571]\n",
            "18 day output [[0.17175317]]\n",
            "19 day input [0.19260621 0.20812908 0.18974673 0.18055556 0.18239379 0.17708333\n",
            " 0.17810458 0.18055556 0.17810458 0.17851307 0.19607843 0.18913399\n",
            " 0.18954248 0.19403595 0.19444444 0.20200163 0.19771242 0.19934641\n",
            " 0.19873366 0.1997549  0.2128268  0.21568627 0.20445261 0.21772876\n",
            " 0.21098856 0.21425654 0.19750817 0.18811275 0.17851307 0.17381536\n",
            " 0.16033497 0.16564542 0.17116013 0.17422386 0.18035131 0.17401961\n",
            " 0.16278595 0.16973039 0.17810458 0.17034314 0.16830065 0.17279412\n",
            " 0.17544935 0.18382353 0.19138072 0.18913399 0.19097222 0.17238562\n",
            " 0.16830065 0.1693219  0.17177288 0.16156046 0.14971405 0.1503268\n",
            " 0.15196078 0.14726307 0.14501634 0.14603758 0.12479575 0.13112745\n",
            " 0.11397059 0.1190768  0.12377451 0.13562092 0.12908497 0.13459967\n",
            " 0.12806373 0.13031046 0.12724673 0.13521242 0.14522059 0.15257353\n",
            " 0.14848856 0.14338235 0.14562908 0.15236928 0.15400327 0.14971405\n",
            " 0.1621732  0.16319444 0.16584967 0.16568424 0.16713069 0.16767532\n",
            " 0.16791619 0.16807088 0.16822922 0.16843115 0.16868585 0.16898285\n",
            " 0.16930272 0.16962564 0.16993682 0.17022854 0.17050004 0.17075552\n",
            " 0.17100193 0.17124663 0.17149571 0.17175317]\n",
            "19 day output [[0.17202057]]\n",
            "20 day input [0.20812908 0.18974673 0.18055556 0.18239379 0.17708333 0.17810458\n",
            " 0.18055556 0.17810458 0.17851307 0.19607843 0.18913399 0.18954248\n",
            " 0.19403595 0.19444444 0.20200163 0.19771242 0.19934641 0.19873366\n",
            " 0.1997549  0.2128268  0.21568627 0.20445261 0.21772876 0.21098856\n",
            " 0.21425654 0.19750817 0.18811275 0.17851307 0.17381536 0.16033497\n",
            " 0.16564542 0.17116013 0.17422386 0.18035131 0.17401961 0.16278595\n",
            " 0.16973039 0.17810458 0.17034314 0.16830065 0.17279412 0.17544935\n",
            " 0.18382353 0.19138072 0.18913399 0.19097222 0.17238562 0.16830065\n",
            " 0.1693219  0.17177288 0.16156046 0.14971405 0.1503268  0.15196078\n",
            " 0.14726307 0.14501634 0.14603758 0.12479575 0.13112745 0.11397059\n",
            " 0.1190768  0.12377451 0.13562092 0.12908497 0.13459967 0.12806373\n",
            " 0.13031046 0.12724673 0.13521242 0.14522059 0.15257353 0.14848856\n",
            " 0.14338235 0.14562908 0.15236928 0.15400327 0.14971405 0.1621732\n",
            " 0.16319444 0.16584967 0.16568424 0.16713069 0.16767532 0.16791619\n",
            " 0.16807088 0.16822922 0.16843115 0.16868585 0.16898285 0.16930272\n",
            " 0.16962564 0.16993682 0.17022854 0.17050004 0.17075552 0.17100193\n",
            " 0.17124663 0.17149571 0.17175317 0.17202057]\n",
            "20 day output [[0.17229728]]\n",
            "21 day input [0.18974673 0.18055556 0.18239379 0.17708333 0.17810458 0.18055556\n",
            " 0.17810458 0.17851307 0.19607843 0.18913399 0.18954248 0.19403595\n",
            " 0.19444444 0.20200163 0.19771242 0.19934641 0.19873366 0.1997549\n",
            " 0.2128268  0.21568627 0.20445261 0.21772876 0.21098856 0.21425654\n",
            " 0.19750817 0.18811275 0.17851307 0.17381536 0.16033497 0.16564542\n",
            " 0.17116013 0.17422386 0.18035131 0.17401961 0.16278595 0.16973039\n",
            " 0.17810458 0.17034314 0.16830065 0.17279412 0.17544935 0.18382353\n",
            " 0.19138072 0.18913399 0.19097222 0.17238562 0.16830065 0.1693219\n",
            " 0.17177288 0.16156046 0.14971405 0.1503268  0.15196078 0.14726307\n",
            " 0.14501634 0.14603758 0.12479575 0.13112745 0.11397059 0.1190768\n",
            " 0.12377451 0.13562092 0.12908497 0.13459967 0.12806373 0.13031046\n",
            " 0.12724673 0.13521242 0.14522059 0.15257353 0.14848856 0.14338235\n",
            " 0.14562908 0.15236928 0.15400327 0.14971405 0.1621732  0.16319444\n",
            " 0.16584967 0.16568424 0.16713069 0.16767532 0.16791619 0.16807088\n",
            " 0.16822922 0.16843115 0.16868585 0.16898285 0.16930272 0.16962564\n",
            " 0.16993682 0.17022854 0.17050004 0.17075552 0.17100193 0.17124663\n",
            " 0.17149571 0.17175317 0.17202057 0.17229728]\n",
            "21 day output [[0.1725812]]\n",
            "22 day input [0.18055556 0.18239379 0.17708333 0.17810458 0.18055556 0.17810458\n",
            " 0.17851307 0.19607843 0.18913399 0.18954248 0.19403595 0.19444444\n",
            " 0.20200163 0.19771242 0.19934641 0.19873366 0.1997549  0.2128268\n",
            " 0.21568627 0.20445261 0.21772876 0.21098856 0.21425654 0.19750817\n",
            " 0.18811275 0.17851307 0.17381536 0.16033497 0.16564542 0.17116013\n",
            " 0.17422386 0.18035131 0.17401961 0.16278595 0.16973039 0.17810458\n",
            " 0.17034314 0.16830065 0.17279412 0.17544935 0.18382353 0.19138072\n",
            " 0.18913399 0.19097222 0.17238562 0.16830065 0.1693219  0.17177288\n",
            " 0.16156046 0.14971405 0.1503268  0.15196078 0.14726307 0.14501634\n",
            " 0.14603758 0.12479575 0.13112745 0.11397059 0.1190768  0.12377451\n",
            " 0.13562092 0.12908497 0.13459967 0.12806373 0.13031046 0.12724673\n",
            " 0.13521242 0.14522059 0.15257353 0.14848856 0.14338235 0.14562908\n",
            " 0.15236928 0.15400327 0.14971405 0.1621732  0.16319444 0.16584967\n",
            " 0.16568424 0.16713069 0.16767532 0.16791619 0.16807088 0.16822922\n",
            " 0.16843115 0.16868585 0.16898285 0.16930272 0.16962564 0.16993682\n",
            " 0.17022854 0.17050004 0.17075552 0.17100193 0.17124663 0.17149571\n",
            " 0.17175317 0.17202057 0.17229728 0.1725812 ]\n",
            "22 day output [[0.17286919]]\n",
            "23 day input [0.18239379 0.17708333 0.17810458 0.18055556 0.17810458 0.17851307\n",
            " 0.19607843 0.18913399 0.18954248 0.19403595 0.19444444 0.20200163\n",
            " 0.19771242 0.19934641 0.19873366 0.1997549  0.2128268  0.21568627\n",
            " 0.20445261 0.21772876 0.21098856 0.21425654 0.19750817 0.18811275\n",
            " 0.17851307 0.17381536 0.16033497 0.16564542 0.17116013 0.17422386\n",
            " 0.18035131 0.17401961 0.16278595 0.16973039 0.17810458 0.17034314\n",
            " 0.16830065 0.17279412 0.17544935 0.18382353 0.19138072 0.18913399\n",
            " 0.19097222 0.17238562 0.16830065 0.1693219  0.17177288 0.16156046\n",
            " 0.14971405 0.1503268  0.15196078 0.14726307 0.14501634 0.14603758\n",
            " 0.12479575 0.13112745 0.11397059 0.1190768  0.12377451 0.13562092\n",
            " 0.12908497 0.13459967 0.12806373 0.13031046 0.12724673 0.13521242\n",
            " 0.14522059 0.15257353 0.14848856 0.14338235 0.14562908 0.15236928\n",
            " 0.15400327 0.14971405 0.1621732  0.16319444 0.16584967 0.16568424\n",
            " 0.16713069 0.16767532 0.16791619 0.16807088 0.16822922 0.16843115\n",
            " 0.16868585 0.16898285 0.16930272 0.16962564 0.16993682 0.17022854\n",
            " 0.17050004 0.17075552 0.17100193 0.17124663 0.17149571 0.17175317\n",
            " 0.17202057 0.17229728 0.1725812  0.17286919]\n",
            "23 day output [[0.17315803]]\n",
            "24 day input [0.17708333 0.17810458 0.18055556 0.17810458 0.17851307 0.19607843\n",
            " 0.18913399 0.18954248 0.19403595 0.19444444 0.20200163 0.19771242\n",
            " 0.19934641 0.19873366 0.1997549  0.2128268  0.21568627 0.20445261\n",
            " 0.21772876 0.21098856 0.21425654 0.19750817 0.18811275 0.17851307\n",
            " 0.17381536 0.16033497 0.16564542 0.17116013 0.17422386 0.18035131\n",
            " 0.17401961 0.16278595 0.16973039 0.17810458 0.17034314 0.16830065\n",
            " 0.17279412 0.17544935 0.18382353 0.19138072 0.18913399 0.19097222\n",
            " 0.17238562 0.16830065 0.1693219  0.17177288 0.16156046 0.14971405\n",
            " 0.1503268  0.15196078 0.14726307 0.14501634 0.14603758 0.12479575\n",
            " 0.13112745 0.11397059 0.1190768  0.12377451 0.13562092 0.12908497\n",
            " 0.13459967 0.12806373 0.13031046 0.12724673 0.13521242 0.14522059\n",
            " 0.15257353 0.14848856 0.14338235 0.14562908 0.15236928 0.15400327\n",
            " 0.14971405 0.1621732  0.16319444 0.16584967 0.16568424 0.16713069\n",
            " 0.16767532 0.16791619 0.16807088 0.16822922 0.16843115 0.16868585\n",
            " 0.16898285 0.16930272 0.16962564 0.16993682 0.17022854 0.17050004\n",
            " 0.17075552 0.17100193 0.17124663 0.17149571 0.17175317 0.17202057\n",
            " 0.17229728 0.1725812  0.17286919 0.17315803]\n",
            "24 day output [[0.17344466]]\n",
            "25 day input [0.17810458 0.18055556 0.17810458 0.17851307 0.19607843 0.18913399\n",
            " 0.18954248 0.19403595 0.19444444 0.20200163 0.19771242 0.19934641\n",
            " 0.19873366 0.1997549  0.2128268  0.21568627 0.20445261 0.21772876\n",
            " 0.21098856 0.21425654 0.19750817 0.18811275 0.17851307 0.17381536\n",
            " 0.16033497 0.16564542 0.17116013 0.17422386 0.18035131 0.17401961\n",
            " 0.16278595 0.16973039 0.17810458 0.17034314 0.16830065 0.17279412\n",
            " 0.17544935 0.18382353 0.19138072 0.18913399 0.19097222 0.17238562\n",
            " 0.16830065 0.1693219  0.17177288 0.16156046 0.14971405 0.1503268\n",
            " 0.15196078 0.14726307 0.14501634 0.14603758 0.12479575 0.13112745\n",
            " 0.11397059 0.1190768  0.12377451 0.13562092 0.12908497 0.13459967\n",
            " 0.12806373 0.13031046 0.12724673 0.13521242 0.14522059 0.15257353\n",
            " 0.14848856 0.14338235 0.14562908 0.15236928 0.15400327 0.14971405\n",
            " 0.1621732  0.16319444 0.16584967 0.16568424 0.16713069 0.16767532\n",
            " 0.16791619 0.16807088 0.16822922 0.16843115 0.16868585 0.16898285\n",
            " 0.16930272 0.16962564 0.16993682 0.17022854 0.17050004 0.17075552\n",
            " 0.17100193 0.17124663 0.17149571 0.17175317 0.17202057 0.17229728\n",
            " 0.1725812  0.17286919 0.17315803 0.17344466]\n",
            "25 day output [[0.17372662]]\n",
            "26 day input [0.18055556 0.17810458 0.17851307 0.19607843 0.18913399 0.18954248\n",
            " 0.19403595 0.19444444 0.20200163 0.19771242 0.19934641 0.19873366\n",
            " 0.1997549  0.2128268  0.21568627 0.20445261 0.21772876 0.21098856\n",
            " 0.21425654 0.19750817 0.18811275 0.17851307 0.17381536 0.16033497\n",
            " 0.16564542 0.17116013 0.17422386 0.18035131 0.17401961 0.16278595\n",
            " 0.16973039 0.17810458 0.17034314 0.16830065 0.17279412 0.17544935\n",
            " 0.18382353 0.19138072 0.18913399 0.19097222 0.17238562 0.16830065\n",
            " 0.1693219  0.17177288 0.16156046 0.14971405 0.1503268  0.15196078\n",
            " 0.14726307 0.14501634 0.14603758 0.12479575 0.13112745 0.11397059\n",
            " 0.1190768  0.12377451 0.13562092 0.12908497 0.13459967 0.12806373\n",
            " 0.13031046 0.12724673 0.13521242 0.14522059 0.15257353 0.14848856\n",
            " 0.14338235 0.14562908 0.15236928 0.15400327 0.14971405 0.1621732\n",
            " 0.16319444 0.16584967 0.16568424 0.16713069 0.16767532 0.16791619\n",
            " 0.16807088 0.16822922 0.16843115 0.16868585 0.16898285 0.16930272\n",
            " 0.16962564 0.16993682 0.17022854 0.17050004 0.17075552 0.17100193\n",
            " 0.17124663 0.17149571 0.17175317 0.17202057 0.17229728 0.1725812\n",
            " 0.17286919 0.17315803 0.17344466 0.17372662]\n",
            "26 day output [[0.1740021]]\n",
            "27 day input [0.17810458 0.17851307 0.19607843 0.18913399 0.18954248 0.19403595\n",
            " 0.19444444 0.20200163 0.19771242 0.19934641 0.19873366 0.1997549\n",
            " 0.2128268  0.21568627 0.20445261 0.21772876 0.21098856 0.21425654\n",
            " 0.19750817 0.18811275 0.17851307 0.17381536 0.16033497 0.16564542\n",
            " 0.17116013 0.17422386 0.18035131 0.17401961 0.16278595 0.16973039\n",
            " 0.17810458 0.17034314 0.16830065 0.17279412 0.17544935 0.18382353\n",
            " 0.19138072 0.18913399 0.19097222 0.17238562 0.16830065 0.1693219\n",
            " 0.17177288 0.16156046 0.14971405 0.1503268  0.15196078 0.14726307\n",
            " 0.14501634 0.14603758 0.12479575 0.13112745 0.11397059 0.1190768\n",
            " 0.12377451 0.13562092 0.12908497 0.13459967 0.12806373 0.13031046\n",
            " 0.12724673 0.13521242 0.14522059 0.15257353 0.14848856 0.14338235\n",
            " 0.14562908 0.15236928 0.15400327 0.14971405 0.1621732  0.16319444\n",
            " 0.16584967 0.16568424 0.16713069 0.16767532 0.16791619 0.16807088\n",
            " 0.16822922 0.16843115 0.16868585 0.16898285 0.16930272 0.16962564\n",
            " 0.16993682 0.17022854 0.17050004 0.17075552 0.17100193 0.17124663\n",
            " 0.17149571 0.17175317 0.17202057 0.17229728 0.1725812  0.17286919\n",
            " 0.17315803 0.17344466 0.17372662 0.1740021 ]\n",
            "27 day output [[0.17426999]]\n",
            "28 day input [0.17851307 0.19607843 0.18913399 0.18954248 0.19403595 0.19444444\n",
            " 0.20200163 0.19771242 0.19934641 0.19873366 0.1997549  0.2128268\n",
            " 0.21568627 0.20445261 0.21772876 0.21098856 0.21425654 0.19750817\n",
            " 0.18811275 0.17851307 0.17381536 0.16033497 0.16564542 0.17116013\n",
            " 0.17422386 0.18035131 0.17401961 0.16278595 0.16973039 0.17810458\n",
            " 0.17034314 0.16830065 0.17279412 0.17544935 0.18382353 0.19138072\n",
            " 0.18913399 0.19097222 0.17238562 0.16830065 0.1693219  0.17177288\n",
            " 0.16156046 0.14971405 0.1503268  0.15196078 0.14726307 0.14501634\n",
            " 0.14603758 0.12479575 0.13112745 0.11397059 0.1190768  0.12377451\n",
            " 0.13562092 0.12908497 0.13459967 0.12806373 0.13031046 0.12724673\n",
            " 0.13521242 0.14522059 0.15257353 0.14848856 0.14338235 0.14562908\n",
            " 0.15236928 0.15400327 0.14971405 0.1621732  0.16319444 0.16584967\n",
            " 0.16568424 0.16713069 0.16767532 0.16791619 0.16807088 0.16822922\n",
            " 0.16843115 0.16868585 0.16898285 0.16930272 0.16962564 0.16993682\n",
            " 0.17022854 0.17050004 0.17075552 0.17100193 0.17124663 0.17149571\n",
            " 0.17175317 0.17202057 0.17229728 0.1725812  0.17286919 0.17315803\n",
            " 0.17344466 0.17372662 0.1740021  0.17426999]\n",
            "28 day output [[0.1745297]]\n",
            "29 day input [0.19607843 0.18913399 0.18954248 0.19403595 0.19444444 0.20200163\n",
            " 0.19771242 0.19934641 0.19873366 0.1997549  0.2128268  0.21568627\n",
            " 0.20445261 0.21772876 0.21098856 0.21425654 0.19750817 0.18811275\n",
            " 0.17851307 0.17381536 0.16033497 0.16564542 0.17116013 0.17422386\n",
            " 0.18035131 0.17401961 0.16278595 0.16973039 0.17810458 0.17034314\n",
            " 0.16830065 0.17279412 0.17544935 0.18382353 0.19138072 0.18913399\n",
            " 0.19097222 0.17238562 0.16830065 0.1693219  0.17177288 0.16156046\n",
            " 0.14971405 0.1503268  0.15196078 0.14726307 0.14501634 0.14603758\n",
            " 0.12479575 0.13112745 0.11397059 0.1190768  0.12377451 0.13562092\n",
            " 0.12908497 0.13459967 0.12806373 0.13031046 0.12724673 0.13521242\n",
            " 0.14522059 0.15257353 0.14848856 0.14338235 0.14562908 0.15236928\n",
            " 0.15400327 0.14971405 0.1621732  0.16319444 0.16584967 0.16568424\n",
            " 0.16713069 0.16767532 0.16791619 0.16807088 0.16822922 0.16843115\n",
            " 0.16868585 0.16898285 0.16930272 0.16962564 0.16993682 0.17022854\n",
            " 0.17050004 0.17075552 0.17100193 0.17124663 0.17149571 0.17175317\n",
            " 0.17202057 0.17229728 0.1725812  0.17286919 0.17315803 0.17344466\n",
            " 0.17372662 0.1740021  0.17426999 0.1745297 ]\n",
            "29 day output [[0.17478113]]\n",
            "[[0.16568423807621002], [0.16713069379329681], [0.16767531633377075], [0.1679161936044693], [0.16807088255882263], [0.16822922229766846], [0.1684311479330063], [0.16868585348129272], [0.1689828485250473], [0.16930271685123444], [0.1696256399154663], [0.16993682086467743], [0.17022854089736938], [0.1705000400543213], [0.1707555204629898], [0.17100192606449127], [0.17124663293361664], [0.1714957058429718], [0.1717531681060791], [0.1720205694437027], [0.17229728400707245], [0.17258119583129883], [0.17286919057369232], [0.17315803468227386], [0.17344465851783752], [0.1737266182899475], [0.17400209605693817], [0.17426998913288116], [0.17452970147132874], [0.17478112876415253]]\n"
          ],
          "name": "stdout"
        }
      ]
    },
    {
      "cell_type": "code",
      "metadata": {
        "id": "W2U1fWF0NMV2"
      },
      "source": [
        "\n",
        "day_new=np.arange(1,101)\n",
        "day_pred=np.arange(101,131)"
      ],
      "execution_count": 41,
      "outputs": []
    },
    {
      "cell_type": "code",
      "metadata": {
        "id": "s_SuIkvQeY7b"
      },
      "source": [
        ""
      ],
      "execution_count": 2,
      "outputs": []
    },
    {
      "cell_type": "code",
      "metadata": {
        "id": "Kfb-hFZYPmx5"
      },
      "source": [
        "import matplotlib.pyplot as plt"
      ],
      "execution_count": 42,
      "outputs": []
    },
    {
      "cell_type": "code",
      "metadata": {
        "colab": {
          "base_uri": "https://localhost:8080/"
        },
        "id": "5j0gTcI3dp-2",
        "outputId": "3ed9c4ca-873f-4ada-d9c7-0d730f281ba5"
      },
      "source": [
        "\n",
        "len(df1)"
      ],
      "execution_count": 43,
      "outputs": [
        {
          "output_type": "execute_result",
          "data": {
            "text/plain": [
              "2035"
            ]
          },
          "metadata": {},
          "execution_count": 43
        }
      ]
    },
    {
      "cell_type": "code",
      "metadata": {
        "colab": {
          "base_uri": "https://localhost:8080/",
          "height": 282
        },
        "id": "ASorbHzbPxH2",
        "outputId": "27f57476-9f52-4da3-ca79-ab2fa8b0e332"
      },
      "source": [
        "plt.plot(day_new,scaler.inverse_transform(df1[1935:]))\n",
        "plt.plot(day_pred,scaler.inverse_transform(lst_output))"
      ],
      "execution_count": 44,
      "outputs": [
        {
          "output_type": "execute_result",
          "data": {
            "text/plain": [
              "[<matplotlib.lines.Line2D at 0x7f4a69d7da50>]"
            ]
          },
          "metadata": {},
          "execution_count": 44
        },
        {
          "output_type": "display_data",
          "data": {
            "image/png": "[encoded data removed]",
            "text/plain": [
              "<Figure size 432x288 with 1 Axes>"
            ]
          },
          "metadata": {
            "needs_background": "light"
          }
        }
      ]
    },
    {
      "cell_type": "code",
      "metadata": {
        "colab": {
          "base_uri": "https://localhost:8080/",
          "height": 282
        },
        "id": "3ZDvCZoQT68b",
        "outputId": "d8aea4de-64d1-44a3-ad09-665ccfaa6817"
      },
      "source": [
        "df3=df1.tolist()\n",
        "df3.extend(lst_output)\n",
        "plt.plot(df3[1200:])"
      ],
      "execution_count": 45,
      "outputs": [
        {
          "output_type": "execute_result",
          "data": {
            "text/plain": [
              "[<matplotlib.lines.Line2D at 0x7f4a6d1d0990>]"
            ]
          },
          "metadata": {},
          "execution_count": 45
        },
        {
          "output_type": "display_data",
          "data": {
            "image/png": "[encoded data removed]",
            "text/plain": [
              "<Figure size 432x288 with 1 Axes>"
            ]
          },
          "metadata": {
            "needs_background": "light"
          }
        }
      ]
    },
    {
      "cell_type": "code",
      "metadata": {
        "id": "_tV4SX-sh3bW"
      },
      "source": [
        "df3=scaler.inverse_transform(df3).tolist()"
      ],
      "execution_count": 46,
      "outputs": []
    },
    {
      "cell_type": "code",
      "metadata": {
        "colab": {
          "base_uri": "https://localhost:8080/",
          "height": 282
        },
        "id": "6iCIbsVHh7CC",
        "outputId": "3d1f0f76-d23c-4078-d194-b7a16a3685bb"
      },
      "source": [
        "plt.plot(df3)"
      ],
      "execution_count": 47,
      "outputs": [
        {
          "output_type": "execute_result",
          "data": {
            "text/plain": [
              "[<matplotlib.lines.Line2D at 0x7f4a6cef0b10>]"
            ]
          },
          "metadata": {},
          "execution_count": 47
        },
        {
          "output_type": "display_data",
          "data": {
            "image/png": "[encoded data removed]",
            "text/plain": [
              "<Figure size 432x288 with 1 Axes>"
            ]
          },
          "metadata": {
            "needs_background": "light"
          }
        }
      ]
    },
    {
      "cell_type": "code",
      "metadata": {
        "id": "8rqPNHAfIDzj"
      },
      "source": [
        "import numpy"
      ],
      "execution_count": 20,
      "outputs": []
    },
    {
      "cell_type": "code",
      "metadata": {
        "id": "SfQv_YxqMIcy"
      },
      "source": [
        ""
      ],
      "execution_count": null,
      "outputs": []
    }
  ]
}